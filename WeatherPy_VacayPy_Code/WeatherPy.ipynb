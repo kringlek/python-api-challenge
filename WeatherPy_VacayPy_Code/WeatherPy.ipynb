{
 "cells": [
  {
   "cell_type": "markdown",
   "metadata": {},
   "source": [
    "# WeatherPy\n",
    "----\n",
    "\n",
    "#### Note\n",
    "* Instructions have been included for each segment. You do not have to follow them exactly, but they are included to help you think through the steps."
   ]
  },
  {
   "cell_type": "markdown",
   "metadata": {},
   "source": [
    "Analysis of WeatherPy:\n",
    "\n",
    "   The data shows a correlation between latitude and max temperatures for cities in northern and southern hemispheres.  There is a negative linear regression for northern hemisphere cities. This is expected since the further from latitude 0, the equator, the colder the temperature gets.  There is a positive linear regression for southern hempisphere cities.  Around latitude 0, the equator, there are max temperatures.  This is expected since the closer to the equator, the warmer the weather due to distance from the sun.\n",
    "  \n",
    "  There is no correlation between humidity vs latitude data.  The data is very spread out, indiciating distance from latitude 0, the equator, does not have an association with humidity.  This is also seen in cloudiness and wind speed vs latitude data, there is no correlation.\n",
    "  \n",
    "  It is noteworthy to mention the total cities in the northern vs southern hemisphere is not equally distributed. There were 375 cities in the norhtern hemisphere, while only 178 cities in the southern hemisphere.This uneven distriubtion can skew data trends, such as the the negative and positive linear regression trends observed in temperature vs latitude.Stronger relationships may be seen in the northern hemisphere cities due to a larger data set than the southern hempisphere cities.\n",
    "\n",
    "    "
   ]
  },
  {
   "cell_type": "code",
   "execution_count": 138,
   "metadata": {
    "scrolled": true
   },
   "outputs": [],
   "source": [
    "# Dependencies and Setup\n",
    "import matplotlib.pyplot as plt\n",
    "import pandas as pd\n",
    "import numpy as np\n",
    "import requests\n",
    "import time\n",
    "from scipy.stats import linregress\n",
    "import os\n",
    "import csv\n",
    "\n",
    "\n",
    "# Import API key\n",
    "from api_keys import weather_api_key\n",
    "\n",
    "# Incorporated citipy to determine city based on latitude and longitude\n",
    "from citipy import citipy\n",
    "\n",
    "# Output File (CSV)\n",
    "output_data_file = \"output_data/cities.csv\"\n",
    "\n",
    "# Range of latitudes and longitudes\n",
    "lat_range = (-90, 90)\n",
    "lng_range = (-180, 180)"
   ]
  },
  {
   "cell_type": "markdown",
   "metadata": {},
   "source": [
    "## Generate Cities List"
   ]
  },
  {
   "cell_type": "code",
   "execution_count": 139,
   "metadata": {},
   "outputs": [
    {
     "data": {
      "text/plain": [
       "607"
      ]
     },
     "execution_count": 139,
     "metadata": {},
     "output_type": "execute_result"
    }
   ],
   "source": [
    "# List for holding lat_lngs and cities\n",
    "lat_lngs = []\n",
    "cities = []\n",
    "\n",
    "# Create a set of random lat and lng combinations\n",
    "lats = np.random.uniform(lat_range[0], lat_range[1], size=1500)\n",
    "lngs = np.random.uniform(lng_range[0], lng_range[1], size=1500)\n",
    "lat_lngs = zip(lats, lngs)\n",
    "\n",
    "# Identify nearest city for each lat, lng combination\n",
    "for lat_lng in lat_lngs:\n",
    "    city = citipy.nearest_city(lat_lng[0], lat_lng[1]).city_name\n",
    "    \n",
    "    # If the city is unique, then add it to a our cities list\n",
    "    if city not in cities:\n",
    "        cities.append(city)\n",
    "\n",
    "# Print the city count to confirm sufficient count\n",
    "len(cities)"
   ]
  },
  {
   "cell_type": "markdown",
   "metadata": {},
   "source": [
    "### Perform API Calls\n",
    "* Perform a weather check on each city using a series of successive API calls.\n",
    "* Include a print log of each city as it'sbeing processed (with the city number and city name).\n"
   ]
  },
  {
   "cell_type": "code",
   "execution_count": 140,
   "metadata": {
    "scrolled": true
   },
   "outputs": [
    {
     "name": "stdout",
     "output_type": "stream",
     "text": [
      "City kamenskoye not found. Skipping...\n",
      "Processing 0 of Set 1 | nikolskoye\n",
      "Processing 1 of Set 1 | mahebourg\n",
      "Processing 2 of Set 1 | avarua\n",
      "Processing 3 of Set 1 | ayia galini\n",
      "Processing 4 of Set 1 | coruripe\n",
      "Processing 5 of Set 1 | toora-khem\n",
      "Processing 6 of Set 1 | petropavlovsk-kamchatskiy\n",
      "Processing 7 of Set 1 | northam\n",
      "Processing 8 of Set 1 | punta arenas\n",
      "Processing 9 of Set 1 | anekal\n",
      "Processing 10 of Set 1 | shalinskoye\n",
      "Processing 11 of Set 1 | geraldton\n",
      "Processing 12 of Set 1 | tasiilaq\n",
      "Processing 13 of Set 1 | hambantota\n",
      "Processing 14 of Set 1 | victoria\n",
      "Processing 15 of Set 1 | esperance\n",
      "Processing 16 of Set 1 | komsomolskiy\n",
      "Processing 17 of Set 1 | ushuaia\n",
      "Processing 18 of Set 1 | barranca\n",
      "Processing 19 of Set 1 | hobart\n",
      "Processing 20 of Set 1 | busselton\n",
      "Processing 21 of Set 1 | tiksi\n",
      "Processing 22 of Set 1 | lompoc\n",
      "Processing 23 of Set 1 | port alfred\n",
      "Processing 24 of Set 1 | broken hill\n",
      "Processing 25 of Set 1 | teknaf\n",
      "City saleaula not found. Skipping...\n",
      "Processing 26 of Set 1 | bluff\n",
      "Processing 27 of Set 1 | surt\n",
      "Processing 28 of Set 1 | cape town\n",
      "City sentyabrskiy not found. Skipping...\n",
      "Processing 29 of Set 1 | tuatapere\n",
      "Processing 30 of Set 1 | dikson\n",
      "Processing 31 of Set 1 | namibe\n",
      "Processing 32 of Set 1 | atar\n",
      "Processing 33 of Set 1 | beloha\n",
      "Processing 34 of Set 1 | butaritari\n",
      "Processing 35 of Set 1 | hilo\n",
      "Processing 36 of Set 1 | ostrovnoy\n",
      "Processing 37 of Set 1 | mkushi\n",
      "Processing 38 of Set 1 | mataura\n",
      "Processing 39 of Set 1 | hermanus\n",
      "Processing 40 of Set 1 | coquimbo\n",
      "Processing 41 of Set 1 | port keats\n",
      "Processing 42 of Set 1 | thompson\n",
      "Processing 43 of Set 1 | jamestown\n",
      "Processing 44 of Set 1 | ilyich\n",
      "Processing 45 of Set 1 | torbay\n",
      "Processing 46 of Set 1 | rikitea\n",
      "City samalaeulu not found. Skipping...\n",
      "Processing 47 of Set 1 | mar del plata\n",
      "Processing 48 of Set 1 | kodiak\n",
      "Processing 49 of Set 1 | chuy\n",
      "Processing 0 of Set 2 | srednekolymsk\n",
      "Processing 1 of Set 2 | rancho palos verdes\n",
      "Processing 2 of Set 2 | saskylakh\n",
      "Processing 3 of Set 2 | bilibino\n",
      "Processing 4 of Set 2 | lebu\n",
      "Processing 5 of Set 2 | narasannapeta\n",
      "Processing 6 of Set 2 | bredasdorp\n",
      "Processing 7 of Set 2 | vaini\n",
      "Processing 8 of Set 2 | lorengau\n",
      "Processing 9 of Set 2 | vestmannaeyjar\n",
      "Processing 10 of Set 2 | kapaa\n",
      "Processing 11 of Set 2 | arraial do cabo\n",
      "Processing 12 of Set 2 | pangnirtung\n",
      "Processing 13 of Set 2 | troitsko-pechorsk\n",
      "Processing 14 of Set 2 | outlook\n",
      "Processing 15 of Set 2 | san cristobal\n",
      "Processing 16 of Set 2 | labuhan\n",
      "Processing 17 of Set 2 | nosy varika\n",
      "City taolanaro not found. Skipping...\n",
      "Processing 18 of Set 2 | mazatlan\n",
      "Processing 19 of Set 2 | zhezkazgan\n",
      "Processing 20 of Set 2 | redondela\n",
      "Processing 21 of Set 2 | fairbanks\n",
      "Processing 22 of Set 2 | jerome\n",
      "Processing 23 of Set 2 | meulaboh\n",
      "City barentsburg not found. Skipping...\n",
      "Processing 24 of Set 2 | nadym\n",
      "Processing 25 of Set 2 | unai\n",
      "Processing 26 of Set 2 | kaitangata\n",
      "Processing 27 of Set 2 | lavrentiya\n",
      "Processing 28 of Set 2 | hualmay\n",
      "Processing 29 of Set 2 | anloga\n",
      "Processing 30 of Set 2 | bilma\n",
      "Processing 31 of Set 2 | alekseyevka\n",
      "Processing 32 of Set 2 | sanmenxia\n",
      "Processing 33 of Set 2 | ndele\n",
      "Processing 34 of Set 2 | ngunguru\n",
      "Processing 35 of Set 2 | carnarvon\n",
      "Processing 36 of Set 2 | faanui\n",
      "Processing 37 of Set 2 | tazovskiy\n",
      "Processing 38 of Set 2 | jacareacanga\n",
      "Processing 39 of Set 2 | grand island\n",
      "Processing 40 of Set 2 | mandalgovi\n",
      "Processing 41 of Set 2 | tagusao\n",
      "Processing 42 of Set 2 | dunedin\n",
      "Processing 43 of Set 2 | qui nhon\n",
      "Processing 44 of Set 2 | siteki\n",
      "Processing 45 of Set 2 | pilar\n",
      "Processing 46 of Set 2 | qaanaaq\n",
      "Processing 47 of Set 2 | cayenne\n",
      "Processing 48 of Set 2 | new norfolk\n",
      "Processing 49 of Set 2 | inhambane\n",
      "Processing 0 of Set 3 | zhigansk\n",
      "City vaitupu not found. Skipping...\n",
      "Processing 1 of Set 3 | buta\n",
      "Processing 2 of Set 3 | barrow\n",
      "Processing 3 of Set 3 | hovd\n",
      "Processing 4 of Set 3 | ahipara\n",
      "City tumannyy not found. Skipping...\n",
      "Processing 5 of Set 3 | camacupa\n",
      "Processing 6 of Set 3 | turbat\n",
      "Processing 7 of Set 3 | port lincoln\n",
      "Processing 8 of Set 3 | marawi\n",
      "Processing 9 of Set 3 | tanete\n",
      "Processing 10 of Set 3 | miri\n",
      "Processing 11 of Set 3 | port pirie\n",
      "Processing 12 of Set 3 | ponta do sol\n",
      "Processing 13 of Set 3 | yellowknife\n",
      "Processing 14 of Set 3 | atuona\n",
      "City belushya guba not found. Skipping...\n",
      "Processing 15 of Set 3 | turukhansk\n",
      "Processing 16 of Set 3 | broome\n",
      "Processing 17 of Set 3 | klyuchi\n",
      "Processing 18 of Set 3 | longyearbyen\n",
      "Processing 19 of Set 3 | pochutla\n",
      "Processing 20 of Set 3 | albany\n",
      "City uwayl not found. Skipping...\n",
      "Processing 21 of Set 3 | bisira\n",
      "Processing 22 of Set 3 | bairiki\n",
      "Processing 23 of Set 3 | baruun-urt\n",
      "Processing 24 of Set 3 | hirara\n",
      "Processing 25 of Set 3 | tanout\n",
      "City grand river south east not found. Skipping...\n",
      "Processing 26 of Set 3 | chaman\n",
      "Processing 27 of Set 3 | norman wells\n",
      "Processing 28 of Set 3 | san luis\n",
      "Processing 29 of Set 3 | ribeira grande\n",
      "Processing 30 of Set 3 | jesus de otoro\n",
      "Processing 31 of Set 3 | klaksvik\n",
      "City reefton not found. Skipping...\n",
      "Processing 32 of Set 3 | gat\n",
      "Processing 33 of Set 3 | lazaro cardenas\n",
      "Processing 34 of Set 3 | bindura\n",
      "Processing 35 of Set 3 | caiaponia\n",
      "Processing 36 of Set 3 | port blair\n",
      "Processing 37 of Set 3 | iqaluit\n",
      "Processing 38 of Set 3 | nelson bay\n",
      "City mutsamudu not found. Skipping...\n",
      "Processing 39 of Set 3 | njombe\n",
      "Processing 40 of Set 3 | bandarbeyla\n",
      "Processing 41 of Set 3 | haren\n",
      "Processing 42 of Set 3 | nicoya\n",
      "Processing 43 of Set 3 | kirkenes\n",
      "Processing 44 of Set 3 | vagur\n",
      "Processing 45 of Set 3 | namatanai\n",
      "Processing 46 of Set 3 | bengkulu\n",
      "Processing 47 of Set 3 | hervey bay\n",
      "Processing 48 of Set 3 | clyde river\n",
      "Processing 49 of Set 3 | chokurdakh\n",
      "Processing 0 of Set 4 | gimli\n",
      "Processing 1 of Set 4 | visnes\n",
      "Processing 2 of Set 4 | tiarei\n",
      "Processing 3 of Set 4 | leningradskiy\n",
      "Processing 4 of Set 4 | bambous virieux\n",
      "Processing 5 of Set 4 | provideniya\n",
      "City ondorhaan not found. Skipping...\n",
      "Processing 6 of Set 4 | port elizabeth\n",
      "Processing 7 of Set 4 | east london\n",
      "Processing 8 of Set 4 | san policarpo\n",
      "City nizhneyansk not found. Skipping...\n",
      "City illoqqortoormiut not found. Skipping...\n",
      "Processing 9 of Set 4 | sergeyevka\n",
      "Processing 10 of Set 4 | elko\n",
      "Processing 11 of Set 4 | souillac\n",
      "Processing 12 of Set 4 | yuncheng\n",
      "Processing 13 of Set 4 | tuktoyaktuk\n",
      "Processing 14 of Set 4 | luderitz\n",
      "Processing 15 of Set 4 | naze\n",
      "Processing 16 of Set 4 | changping\n",
      "Processing 17 of Set 4 | adrar\n",
      "Processing 18 of Set 4 | river falls\n",
      "Processing 19 of Set 4 | chissamba\n",
      "Processing 20 of Set 4 | kavieng\n",
      "Processing 21 of Set 4 | airai\n",
      "Processing 22 of Set 4 | mount gambier\n",
      "Processing 23 of Set 4 | quang ngai\n",
      "Processing 24 of Set 4 | egvekinot\n",
      "Processing 25 of Set 4 | bethel\n",
      "City nguiu not found. Skipping...\n",
      "Processing 26 of Set 4 | vao\n",
      "Processing 27 of Set 4 | calama\n",
      "Processing 28 of Set 4 | colombo\n",
      "Processing 29 of Set 4 | kaitong\n",
      "Processing 30 of Set 4 | mehamn\n",
      "Processing 31 of Set 4 | upernavik\n",
      "Processing 32 of Set 4 | puerto ayora\n",
      "Processing 33 of Set 4 | epinal\n",
      "City saint-die not found. Skipping...\n",
      "Processing 34 of Set 4 | dingle\n",
      "Processing 35 of Set 4 | chongwe\n",
      "City rungata not found. Skipping...\n",
      "Processing 36 of Set 4 | pevek\n",
      "Processing 37 of Set 4 | buala\n",
      "Processing 38 of Set 4 | castro\n",
      "Processing 39 of Set 4 | torres\n",
      "Processing 40 of Set 4 | sioux lookout\n",
      "Processing 41 of Set 4 | sibu\n",
      "Processing 42 of Set 4 | yinchuan\n",
      "Processing 43 of Set 4 | taoudenni\n",
      "Processing 44 of Set 4 | kruisfontein\n",
      "Processing 45 of Set 4 | calvia\n",
      "Processing 46 of Set 4 | ahuimanu\n",
      "Processing 47 of Set 4 | wajima\n",
      "City attawapiskat not found. Skipping...\n",
      "Processing 48 of Set 4 | te anau\n",
      "Processing 49 of Set 4 | cherskiy\n",
      "Processing 0 of Set 5 | saldanha\n",
      "Processing 1 of Set 5 | mahibadhoo\n",
      "Processing 2 of Set 5 | tulancingo\n",
      "Processing 3 of Set 5 | burnie\n",
      "Processing 4 of Set 5 | port shepstone\n",
      "Processing 5 of Set 5 | moree\n",
      "Processing 6 of Set 5 | manyana\n",
      "Processing 7 of Set 5 | altay\n",
      "Processing 8 of Set 5 | santa marta\n",
      "Processing 9 of Set 5 | barsovo\n",
      "Processing 10 of Set 5 | yulara\n",
      "Processing 11 of Set 5 | mogadishu\n",
      "Processing 12 of Set 5 | fare\n",
      "Processing 13 of Set 5 | sovetskiy\n",
      "Processing 14 of Set 5 | west bay\n",
      "Processing 15 of Set 5 | jizan\n",
      "Processing 16 of Set 5 | fangshan\n",
      "Processing 17 of Set 5 | gazanjyk\n"
     ]
    },
    {
     "name": "stdout",
     "output_type": "stream",
     "text": [
      "Processing 18 of Set 5 | abancay\n",
      "Processing 19 of Set 5 | ucluelet\n",
      "Processing 20 of Set 5 | tautira\n",
      "Processing 21 of Set 5 | mosquera\n",
      "Processing 22 of Set 5 | isla vista\n",
      "City marcona not found. Skipping...\n",
      "Processing 23 of Set 5 | eydhafushi\n",
      "Processing 24 of Set 5 | san jose\n",
      "Processing 25 of Set 5 | birao\n",
      "Processing 26 of Set 5 | fort morgan\n",
      "Processing 27 of Set 5 | sao joao da barra\n",
      "Processing 28 of Set 5 | ciudad bolivar\n",
      "Processing 29 of Set 5 | belyy yar\n",
      "Processing 30 of Set 5 | laguna\n",
      "City dzhusaly not found. Skipping...\n",
      "City tuggurt not found. Skipping...\n",
      "Processing 31 of Set 5 | north platte\n",
      "City amderma not found. Skipping...\n",
      "Processing 32 of Set 5 | jumla\n",
      "Processing 33 of Set 5 | kitami\n",
      "Processing 34 of Set 5 | safranbolu\n",
      "Processing 35 of Set 5 | saint-pierre\n",
      "Processing 36 of Set 5 | toropets\n",
      "Processing 37 of Set 5 | roebourne\n",
      "Processing 38 of Set 5 | bonito\n",
      "Processing 39 of Set 5 | saint anthony\n",
      "Processing 40 of Set 5 | ushtobe\n",
      "Processing 41 of Set 5 | sao miguel do araguaia\n",
      "Processing 42 of Set 5 | vestmanna\n",
      "Processing 43 of Set 5 | catuday\n",
      "Processing 44 of Set 5 | la ronge\n",
      "Processing 45 of Set 5 | coari\n",
      "Processing 46 of Set 5 | banjar\n",
      "Processing 47 of Set 5 | hailar\n",
      "Processing 48 of Set 5 | barrhead\n",
      "Processing 49 of Set 5 | lata\n",
      "Processing 0 of Set 6 | lasa\n",
      "Processing 1 of Set 6 | progreso\n",
      "Processing 2 of Set 6 | batagay\n",
      "Processing 3 of Set 6 | werda\n",
      "Processing 4 of Set 6 | alice springs\n",
      "Processing 5 of Set 6 | porto walter\n",
      "Processing 6 of Set 6 | shimoda\n",
      "Processing 7 of Set 6 | khatanga\n",
      "Processing 8 of Set 6 | guidonia\n",
      "Processing 9 of Set 6 | hithadhoo\n",
      "Processing 10 of Set 6 | nhulunbuy\n",
      "Processing 11 of Set 6 | limbang\n",
      "Processing 12 of Set 6 | poum\n",
      "Processing 13 of Set 6 | san ramon\n",
      "Processing 14 of Set 6 | ilulissat\n",
      "Processing 15 of Set 6 | aitape\n",
      "Processing 16 of Set 6 | floirac\n",
      "Processing 17 of Set 6 | honiara\n",
      "Processing 18 of Set 6 | saint george\n",
      "City dolbeau not found. Skipping...\n",
      "Processing 19 of Set 6 | mount isa\n",
      "Processing 20 of Set 6 | havoysund\n",
      "Processing 21 of Set 6 | bulgan\n",
      "Processing 22 of Set 6 | swan hill\n",
      "Processing 23 of Set 6 | georgetown\n",
      "Processing 24 of Set 6 | cidreira\n",
      "Processing 25 of Set 6 | neuquen\n",
      "Processing 26 of Set 6 | calabar\n",
      "Processing 27 of Set 6 | carutapera\n",
      "Processing 28 of Set 6 | bettiah\n",
      "Processing 29 of Set 6 | salalah\n",
      "Processing 30 of Set 6 | kerouane\n",
      "City vestbygda not found. Skipping...\n",
      "Processing 31 of Set 6 | nanortalik\n",
      "Processing 32 of Set 6 | lugovoy\n",
      "Processing 33 of Set 6 | tual\n",
      "Processing 34 of Set 6 | beringovskiy\n",
      "Processing 35 of Set 6 | rudnya\n",
      "Processing 36 of Set 6 | salekhard\n",
      "Processing 37 of Set 6 | mersing\n",
      "Processing 38 of Set 6 | acajutla\n",
      "Processing 39 of Set 6 | yerbogachen\n",
      "Processing 40 of Set 6 | tiznit\n",
      "Processing 41 of Set 6 | manokwari\n",
      "City aflu not found. Skipping...\n",
      "Processing 42 of Set 6 | tadine\n",
      "Processing 43 of Set 6 | oktyabrskoye\n",
      "Processing 44 of Set 6 | decatur\n",
      "Processing 45 of Set 6 | buin\n",
      "Processing 46 of Set 6 | westport\n",
      "Processing 47 of Set 6 | ayan\n",
      "Processing 48 of Set 6 | emba\n",
      "Processing 49 of Set 6 | iracoubo\n",
      "Processing 0 of Set 7 | husavik\n",
      "Processing 1 of Set 7 | nara\n",
      "Processing 2 of Set 7 | beyneu\n",
      "Processing 3 of Set 7 | cicero dantas\n",
      "Processing 4 of Set 7 | fortuna\n",
      "Processing 5 of Set 7 | middletown\n",
      "Processing 6 of Set 7 | pisco\n",
      "Processing 7 of Set 7 | walvis bay\n",
      "Processing 8 of Set 7 | ishigaki\n",
      "City lolua not found. Skipping...\n",
      "Processing 9 of Set 7 | abu dhabi\n",
      "Processing 10 of Set 7 | grindavik\n",
      "Processing 11 of Set 7 | sur\n",
      "Processing 12 of Set 7 | donskoye\n",
      "Processing 13 of Set 7 | grand gaube\n",
      "Processing 14 of Set 7 | flinders\n",
      "Processing 15 of Set 7 | praia\n",
      "Processing 16 of Set 7 | salym\n",
      "Processing 17 of Set 7 | tucumcari\n",
      "Processing 18 of Set 7 | wuwei\n",
      "Processing 19 of Set 7 | marrakesh\n",
      "Processing 20 of Set 7 | burns lake\n",
      "Processing 21 of Set 7 | luwingu\n",
      "Processing 22 of Set 7 | capoterra\n",
      "Processing 23 of Set 7 | grao mogol\n",
      "Processing 24 of Set 7 | road town\n",
      "Processing 25 of Set 7 | college\n",
      "Processing 26 of Set 7 | bagdarin\n",
      "Processing 27 of Set 7 | port moresby\n",
      "Processing 28 of Set 7 | saint-philippe\n",
      "Processing 29 of Set 7 | hammerfest\n",
      "Processing 30 of Set 7 | coahuayana\n",
      "Processing 31 of Set 7 | falam\n",
      "Processing 32 of Set 7 | porto velho\n",
      "Processing 33 of Set 7 | garden city\n",
      "City kazalinsk not found. Skipping...\n",
      "Processing 34 of Set 7 | seoul\n",
      "Processing 35 of Set 7 | somanda\n",
      "Processing 36 of Set 7 | ancud\n",
      "Processing 37 of Set 7 | mahenge\n",
      "Processing 38 of Set 7 | praia da vitoria\n",
      "Processing 39 of Set 7 | terrace\n",
      "Processing 40 of Set 7 | shenjiamen\n",
      "Processing 41 of Set 7 | pundaguitan\n",
      "Processing 42 of Set 7 | karasjok\n",
      "Processing 43 of Set 7 | miguel auza\n",
      "Processing 44 of Set 7 | brae\n",
      "Processing 45 of Set 7 | codrington\n",
      "Processing 46 of Set 7 | mpika\n",
      "Processing 47 of Set 7 | umm lajj\n",
      "Processing 48 of Set 7 | jieshi\n",
      "City a not found. Skipping...\n",
      "Processing 49 of Set 7 | fuerte olimpo\n",
      "Processing 0 of Set 8 | ketchikan\n",
      "Processing 1 of Set 8 | vangaindrano\n",
      "Processing 2 of Set 8 | sarkikaraagac\n",
      "Processing 3 of Set 8 | soyo\n",
      "City one hundred mile house not found. Skipping...\n",
      "Processing 4 of Set 8 | sao filipe\n",
      "Processing 5 of Set 8 | tarpa\n",
      "Processing 6 of Set 8 | clinton\n",
      "Processing 7 of Set 8 | xichang\n",
      "Processing 8 of Set 8 | rosarito\n",
      "Processing 9 of Set 8 | khani\n",
      "Processing 10 of Set 8 | saint-augustin\n",
      "Processing 11 of Set 8 | chernyshevskiy\n",
      "Processing 12 of Set 8 | huescar\n",
      "Processing 13 of Set 8 | jaszkarajeno\n",
      "Processing 14 of Set 8 | valdosta\n",
      "Processing 15 of Set 8 | caravelas\n",
      "City mys shmidta not found. Skipping...\n",
      "Processing 16 of Set 8 | voi\n",
      "Processing 17 of Set 8 | numazu\n",
      "Processing 18 of Set 8 | omsukchan\n",
      "Processing 19 of Set 8 | tessalit\n",
      "Processing 20 of Set 8 | kirakira\n",
      "Processing 21 of Set 8 | neiafu\n",
      "Processing 22 of Set 8 | vanimo\n",
      "Processing 23 of Set 8 | coihaique\n",
      "Processing 24 of Set 8 | chumikan\n",
      "Processing 25 of Set 8 | catamarca\n",
      "Processing 26 of Set 8 | huarmey\n",
      "Processing 27 of Set 8 | preeceville\n",
      "Processing 28 of Set 8 | harper\n",
      "Processing 29 of Set 8 | ossora\n",
      "Processing 30 of Set 8 | padang\n",
      "Processing 31 of Set 8 | mutum\n",
      "Processing 32 of Set 8 | gezing\n",
      "Processing 33 of Set 8 | trofors\n",
      "Processing 34 of Set 8 | puerto baquerizo moreno\n",
      "Processing 35 of Set 8 | porto belo\n",
      "City tsienyane not found. Skipping...\n",
      "Processing 36 of Set 8 | luena\n",
      "Processing 37 of Set 8 | igdir\n",
      "Processing 38 of Set 8 | kangaatsiaq\n",
      "City tillabery not found. Skipping...\n",
      "City linshu not found. Skipping...\n",
      "Processing 39 of Set 8 | awjilah\n",
      "Processing 40 of Set 8 | glodeni\n",
      "Processing 41 of Set 8 | bukama\n",
      "Processing 42 of Set 8 | jaca\n",
      "Processing 43 of Set 8 | antioquia\n",
      "Processing 44 of Set 8 | vryburg\n",
      "Processing 45 of Set 8 | cap malheureux\n",
      "Processing 46 of Set 8 | dubai\n",
      "City shchelyayur not found. Skipping...\n",
      "Processing 47 of Set 8 | portland\n",
      "Processing 48 of Set 8 | biloela\n",
      "Processing 49 of Set 8 | christchurch\n",
      "Processing 0 of Set 9 | kamenka\n",
      "Processing 1 of Set 9 | talnakh\n",
      "Processing 2 of Set 9 | shingu\n",
      "Processing 3 of Set 9 | alekseyevsk\n",
      "Processing 4 of Set 9 | romitan\n",
      "Processing 5 of Set 9 | erenhot\n",
      "Processing 6 of Set 9 | roald\n",
      "Processing 7 of Set 9 | cooma\n",
      "Processing 8 of Set 9 | dehloran\n",
      "City tsihombe not found. Skipping...\n",
      "Processing 9 of Set 9 | yeniseysk\n",
      "Processing 10 of Set 9 | teya\n",
      "Processing 11 of Set 9 | narsaq\n",
      "Processing 12 of Set 9 | ewa beach\n",
      "Processing 13 of Set 9 | tevaitoa\n",
      "Processing 14 of Set 9 | nanyang\n",
      "Processing 15 of Set 9 | isangel\n",
      "Processing 16 of Set 9 | asau\n",
      "Processing 17 of Set 9 | kabalo\n",
      "Processing 18 of Set 9 | urubicha\n",
      "Processing 19 of Set 9 | tekeli\n",
      "City gangotri not found. Skipping...\n",
      "Processing 20 of Set 9 | hoima\n",
      "Processing 21 of Set 9 | bathsheba\n",
      "Processing 22 of Set 9 | ust-maya\n",
      "Processing 23 of Set 9 | manoel urbano\n",
      "Processing 24 of Set 9 | svobodnyy\n",
      "Processing 25 of Set 9 | luanda\n",
      "Processing 26 of Set 9 | smithers\n",
      "Processing 27 of Set 9 | piraju\n",
      "Processing 28 of Set 9 | issenye\n",
      "Processing 29 of Set 9 | pyshma\n",
      "Processing 30 of Set 9 | tura\n",
      "Processing 31 of Set 9 | point fortin\n",
      "Processing 32 of Set 9 | kutum\n",
      "Processing 33 of Set 9 | puerto escondido\n",
      "Processing 34 of Set 9 | hay river\n",
      "Processing 35 of Set 9 | behat\n",
      "Processing 36 of Set 9 | new amsterdam\n",
      "Processing 37 of Set 9 | csongrad\n",
      "Processing 38 of Set 9 | half moon bay\n",
      "City sumbawa not found. Skipping...\n"
     ]
    },
    {
     "name": "stdout",
     "output_type": "stream",
     "text": [
      "Processing 39 of Set 9 | novoagansk\n",
      "Processing 40 of Set 9 | taltal\n",
      "Processing 41 of Set 9 | xuddur\n",
      "Processing 42 of Set 9 | warman\n",
      "Processing 43 of Set 9 | waddan\n",
      "Processing 44 of Set 9 | alta\n",
      "Processing 45 of Set 9 | magistralnyy\n",
      "Processing 46 of Set 9 | whitehorse\n",
      "Processing 47 of Set 9 | kavaratti\n",
      "Processing 48 of Set 9 | ust-nera\n",
      "Processing 49 of Set 9 | pena blanca\n",
      "Processing 0 of Set 10 | oyama\n",
      "Processing 1 of Set 10 | kenora\n",
      "Processing 2 of Set 10 | yumen\n",
      "Processing 3 of Set 10 | katsuura\n",
      "Processing 4 of Set 10 | ajaccio\n",
      "City rawannawi not found. Skipping...\n",
      "Processing 5 of Set 10 | norrtalje\n",
      "Processing 6 of Set 10 | totness\n",
      "Processing 7 of Set 10 | muzhi\n",
      "Processing 8 of Set 10 | dergachi\n",
      "Processing 9 of Set 10 | kimbe\n",
      "Processing 10 of Set 10 | katherine\n",
      "Processing 11 of Set 10 | ilo\n",
      "Processing 12 of Set 10 | itoman\n",
      "Processing 13 of Set 10 | oriximina\n",
      "City formoso do araguaia not found. Skipping...\n",
      "Processing 14 of Set 10 | pinyug\n",
      "Processing 15 of Set 10 | hofn\n",
      "Processing 16 of Set 10 | amposta\n",
      "Processing 17 of Set 10 | nalut\n",
      "Processing 18 of Set 10 | najran\n",
      "Processing 19 of Set 10 | pokhara\n",
      "Processing 20 of Set 10 | dudinka\n",
      "Processing 21 of Set 10 | grajau\n",
      "Processing 22 of Set 10 | dannenberg\n",
      "Processing 23 of Set 10 | makakilo city\n",
      "Processing 24 of Set 10 | bacolod\n",
      "Processing 25 of Set 10 | sinegorye\n",
      "Processing 26 of Set 10 | aykhal\n",
      "City maghama not found. Skipping...\n",
      "Processing 27 of Set 10 | gushikawa\n",
      "Processing 28 of Set 10 | bekessamson\n",
      "Processing 29 of Set 10 | zyryanovsk\n",
      "Processing 30 of Set 10 | wasilla\n",
      "Processing 31 of Set 10 | camargo\n",
      "Processing 32 of Set 10 | hof\n",
      "Processing 33 of Set 10 | kununurra\n",
      "Processing 34 of Set 10 | evanston\n",
      "Processing 35 of Set 10 | cabo san lucas\n",
      "Processing 36 of Set 10 | los llanos de aridane\n",
      "Processing 37 of Set 10 | san andres\n",
      "City grand centre not found. Skipping...\n",
      "Processing 38 of Set 10 | saint charles\n",
      "Processing 39 of Set 10 | fuyu\n",
      "Processing 40 of Set 10 | lagoa\n",
      "Processing 41 of Set 10 | tukrah\n",
      "Processing 42 of Set 10 | sola\n",
      "Processing 43 of Set 10 | basoko\n",
      "Processing 44 of Set 10 | veraval\n",
      "Processing 45 of Set 10 | havre-saint-pierre\n",
      "Processing 46 of Set 10 | zvishavane\n",
      "Processing 47 of Set 10 | matara\n",
      "City sorvag not found. Skipping...\n",
      "Processing 48 of Set 10 | portobelo\n",
      "Processing 49 of Set 10 | marystown\n",
      "Processing 0 of Set 11 | hasaki\n",
      "City cape elizabeth not found. Skipping...\n",
      "City viligili not found. Skipping...\n",
      "Processing 1 of Set 11 | jeremoabo\n",
      "Processing 2 of Set 11 | dossor\n",
      "Processing 3 of Set 11 | ruteng\n",
      "Processing 4 of Set 11 | itapecerica\n",
      "Processing 5 of Set 11 | duvan\n",
      "Processing 6 of Set 11 | camacha\n",
      "Processing 7 of Set 11 | welver\n",
      "Processing 8 of Set 11 | witney\n",
      "Processing 9 of Set 11 | mayo\n",
      "Processing 10 of Set 11 | icatu\n",
      "City malwan not found. Skipping...\n",
      "Processing 11 of Set 11 | spandaryan\n",
      "Processing 12 of Set 11 | constitucion\n",
      "Processing 13 of Set 11 | maridi\n",
      "Processing 14 of Set 11 | green river\n",
      "Processing 15 of Set 11 | amahai\n",
      "Processing 16 of Set 11 | kondinskoye\n",
      "Processing 17 of Set 11 | humaita\n",
      "Processing 18 of Set 11 | sambava\n",
      "Processing 19 of Set 11 | rio gallegos\n",
      "Processing 20 of Set 11 | kinarut\n",
      "Processing 21 of Set 11 | okha\n",
      "Processing 22 of Set 11 | mokolo\n",
      "Processing 23 of Set 11 | nanga eboko\n",
      "Processing 24 of Set 11 | la sarre\n",
      "Processing 25 of Set 11 | ballina\n",
      "Processing 26 of Set 11 | porto novo\n",
      "Processing 27 of Set 11 | barcelos\n",
      "Processing 28 of Set 11 | pemangkat\n",
      "City louisbourg not found. Skipping...\n",
      "Processing 29 of Set 11 | araouane\n",
      "Processing 30 of Set 11 | nemuro\n",
      "Processing 31 of Set 11 | nome\n",
      "Processing 32 of Set 11 | longyan\n",
      "Processing 33 of Set 11 | nanakuli\n",
      "City sacuieu not found. Skipping...\n",
      "Processing 34 of Set 11 | colares\n",
      "Processing 35 of Set 11 | malanje\n",
      "Processing 36 of Set 11 | kaoma\n",
      "Processing 37 of Set 11 | havelock\n",
      "Processing 38 of Set 11 | santiago tuxtla\n",
      "Processing 39 of Set 11 | newport\n",
      "City utiroa not found. Skipping...\n",
      "City toliary not found. Skipping...\n",
      "City solovetskiy not found. Skipping...\n",
      "Processing 40 of Set 11 | wyndham\n",
      "Processing 41 of Set 11 | mineros\n",
      "Processing 42 of Set 11 | okhotsk\n",
      "Processing 43 of Set 11 | katangli\n",
      "Processing 44 of Set 11 | ararangua\n",
      "Processing 45 of Set 11 | watrous\n",
      "City rolim de moura not found. Skipping...\n",
      "Processing 46 of Set 11 | ponta delgada\n",
      "Processing 47 of Set 11 | morehead\n",
      "Processing 48 of Set 11 | guerrero negro\n",
      "Processing 49 of Set 11 | karatuzskoye\n",
      "City toftir not found. Skipping...\n",
      "Processing 0 of Set 12 | raga\n",
      "Processing 1 of Set 12 | ferrol\n",
      "Processing 2 of Set 12 | port hardy\n",
      "===================================================================================\n",
      "Number of Citites Analyzed: 553\n",
      "Number of Cities Skipped: 54\n"
     ]
    }
   ],
   "source": [
    "# Weather check using api cells\n",
    "#empty array to store data\n",
    "city_name = []\n",
    "latitude = []\n",
    "longitude = []\n",
    "temp = []\n",
    "humidity = []\n",
    "cloudiness = []\n",
    "wind_speed = []\n",
    "country = []\n",
    "date = []\n",
    "\n",
    "#loop through multiple cities\n",
    "counter = 0\n",
    "set_counter = 1         \n",
    "next_counter = 0\n",
    "skip_counter  = 0\n",
    "\n",
    "\n",
    "#url\n",
    "url = \"http://api.openweathermap.org/data/2.5/weather?\"\n",
    "units = \"imperial\"\n",
    "url_base = f\"{url}appid={weather_api_key}&units={units}&q=\"\n",
    "\n",
    "#Loop\n",
    "for city in cities:\n",
    "     #query w. url\n",
    "    url_city = url_base + city\n",
    "    test_response = requests.get(url_city)\n",
    "    response = test_response.json()\n",
    "    \n",
    "    try:\n",
    "        # Pause for 20 seconds every 50 records processed\n",
    "        if counter > 49: \n",
    "            counter = 0\n",
    "            set_counter +=1\n",
    "            time.sleep(20) \n",
    "            \n",
    "        city_name.append(response['name'])    \n",
    "        latitude.append(response['coord']['lat'])\n",
    "        longitude.append (response['coord']['lon'])\n",
    "        temp.append(response['main']['temp_max'])\n",
    "        humidity.append(response['main']['humidity'])  \n",
    "        cloudiness.append(response['clouds']['all'])  \n",
    "        wind_speed.append(response['wind']['speed'])\n",
    "        country.append(response['sys']['country'])   \n",
    "        date.append(response['dt'])\n",
    "        \n",
    "        print (f\"Processing {counter} of Set {set_counter} | {city}\")\n",
    "        \n",
    "        # Accumulate the processed counters\n",
    "        counter += 1\n",
    "        next_counter += 1\n",
    "        \n",
    "    except (KeyError, IndexError):\n",
    "        \n",
    "        # Skip city without API data\n",
    "        print (f\"City {city} not found. Skipping...\")\n",
    "        skip_counter   += 1\n",
    "        \n",
    "#Indictae code is done & inform data found        \n",
    "print (\"===================================================================================\")        \n",
    "print (f\"Number of Citites Analyzed: {next_counter}\")\n",
    "print (f\"Number of Cities Skipped: {skip_counter}\")"
   ]
  },
  {
   "cell_type": "markdown",
   "metadata": {},
   "source": [
    "### Convert Raw Data to DataFrame\n",
    "* Export the city data into a .csv.\n",
    "* Display the DataFrame"
   ]
  },
  {
   "cell_type": "code",
   "execution_count": 186,
   "metadata": {},
   "outputs": [
    {
     "data": {
      "text/html": [
       "<div>\n",
       "<style scoped>\n",
       "    .dataframe tbody tr th:only-of-type {\n",
       "        vertical-align: middle;\n",
       "    }\n",
       "\n",
       "    .dataframe tbody tr th {\n",
       "        vertical-align: top;\n",
       "    }\n",
       "\n",
       "    .dataframe thead th {\n",
       "        text-align: right;\n",
       "    }\n",
       "</style>\n",
       "<table border=\"1\" class=\"dataframe\">\n",
       "  <thead>\n",
       "    <tr style=\"text-align: right;\">\n",
       "      <th></th>\n",
       "      <th>City</th>\n",
       "      <th>Latitude</th>\n",
       "      <th>Longitude</th>\n",
       "      <th>Temperature</th>\n",
       "      <th>Humidity</th>\n",
       "      <th>Cloudiness</th>\n",
       "      <th>Wind speed</th>\n",
       "      <th>Country</th>\n",
       "      <th>Date</th>\n",
       "    </tr>\n",
       "    <tr>\n",
       "      <th>City_ID</th>\n",
       "      <th></th>\n",
       "      <th></th>\n",
       "      <th></th>\n",
       "      <th></th>\n",
       "      <th></th>\n",
       "      <th></th>\n",
       "      <th></th>\n",
       "      <th></th>\n",
       "      <th></th>\n",
       "    </tr>\n",
       "  </thead>\n",
       "  <tbody>\n",
       "    <tr>\n",
       "      <th>0</th>\n",
       "      <td>Nikolskoye</td>\n",
       "      <td>59.7035</td>\n",
       "      <td>30.7861</td>\n",
       "      <td>64.87</td>\n",
       "      <td>99</td>\n",
       "      <td>100</td>\n",
       "      <td>9.42</td>\n",
       "      <td>RU</td>\n",
       "      <td>2022-08-02</td>\n",
       "    </tr>\n",
       "    <tr>\n",
       "      <th>1</th>\n",
       "      <td>Mahébourg</td>\n",
       "      <td>-20.4081</td>\n",
       "      <td>57.7000</td>\n",
       "      <td>66.49</td>\n",
       "      <td>94</td>\n",
       "      <td>40</td>\n",
       "      <td>6.91</td>\n",
       "      <td>MU</td>\n",
       "      <td>2022-08-02</td>\n",
       "    </tr>\n",
       "    <tr>\n",
       "      <th>2</th>\n",
       "      <td>Avarua</td>\n",
       "      <td>-21.2078</td>\n",
       "      <td>-159.7750</td>\n",
       "      <td>78.85</td>\n",
       "      <td>57</td>\n",
       "      <td>75</td>\n",
       "      <td>14.97</td>\n",
       "      <td>CK</td>\n",
       "      <td>2022-08-02</td>\n",
       "    </tr>\n",
       "    <tr>\n",
       "      <th>3</th>\n",
       "      <td>Agía Galíni</td>\n",
       "      <td>35.1000</td>\n",
       "      <td>24.6833</td>\n",
       "      <td>79.39</td>\n",
       "      <td>57</td>\n",
       "      <td>0</td>\n",
       "      <td>8.55</td>\n",
       "      <td>GR</td>\n",
       "      <td>2022-08-02</td>\n",
       "    </tr>\n",
       "    <tr>\n",
       "      <th>4</th>\n",
       "      <td>Coruripe</td>\n",
       "      <td>-10.1256</td>\n",
       "      <td>-36.1756</td>\n",
       "      <td>71.37</td>\n",
       "      <td>77</td>\n",
       "      <td>21</td>\n",
       "      <td>7.63</td>\n",
       "      <td>BR</td>\n",
       "      <td>2022-08-02</td>\n",
       "    </tr>\n",
       "    <tr>\n",
       "      <th>...</th>\n",
       "      <td>...</td>\n",
       "      <td>...</td>\n",
       "      <td>...</td>\n",
       "      <td>...</td>\n",
       "      <td>...</td>\n",
       "      <td>...</td>\n",
       "      <td>...</td>\n",
       "      <td>...</td>\n",
       "      <td>...</td>\n",
       "    </tr>\n",
       "    <tr>\n",
       "      <th>548</th>\n",
       "      <td>Guerrero Negro</td>\n",
       "      <td>27.9769</td>\n",
       "      <td>-114.0611</td>\n",
       "      <td>78.57</td>\n",
       "      <td>55</td>\n",
       "      <td>0</td>\n",
       "      <td>15.84</td>\n",
       "      <td>MX</td>\n",
       "      <td>2022-08-02</td>\n",
       "    </tr>\n",
       "    <tr>\n",
       "      <th>549</th>\n",
       "      <td>Karatuzskoye</td>\n",
       "      <td>53.6072</td>\n",
       "      <td>92.8667</td>\n",
       "      <td>62.83</td>\n",
       "      <td>91</td>\n",
       "      <td>68</td>\n",
       "      <td>4.23</td>\n",
       "      <td>RU</td>\n",
       "      <td>2022-08-02</td>\n",
       "    </tr>\n",
       "    <tr>\n",
       "      <th>550</th>\n",
       "      <td>Raja</td>\n",
       "      <td>8.4596</td>\n",
       "      <td>25.6780</td>\n",
       "      <td>66.63</td>\n",
       "      <td>94</td>\n",
       "      <td>99</td>\n",
       "      <td>3.60</td>\n",
       "      <td>SS</td>\n",
       "      <td>2022-08-02</td>\n",
       "    </tr>\n",
       "    <tr>\n",
       "      <th>551</th>\n",
       "      <td>Ferrol</td>\n",
       "      <td>43.4832</td>\n",
       "      <td>-8.2369</td>\n",
       "      <td>68.52</td>\n",
       "      <td>86</td>\n",
       "      <td>1</td>\n",
       "      <td>8.01</td>\n",
       "      <td>ES</td>\n",
       "      <td>2022-08-02</td>\n",
       "    </tr>\n",
       "    <tr>\n",
       "      <th>552</th>\n",
       "      <td>Port Hardy</td>\n",
       "      <td>50.6996</td>\n",
       "      <td>-127.4199</td>\n",
       "      <td>64.58</td>\n",
       "      <td>63</td>\n",
       "      <td>20</td>\n",
       "      <td>16.11</td>\n",
       "      <td>CA</td>\n",
       "      <td>2022-08-02</td>\n",
       "    </tr>\n",
       "  </tbody>\n",
       "</table>\n",
       "<p>553 rows × 9 columns</p>\n",
       "</div>"
      ],
      "text/plain": [
       "                   City  Latitude  Longitude  Temperature  Humidity  \\\n",
       "City_ID                                                               \n",
       "0            Nikolskoye   59.7035    30.7861        64.87        99   \n",
       "1             Mahébourg  -20.4081    57.7000        66.49        94   \n",
       "2                Avarua  -21.2078  -159.7750        78.85        57   \n",
       "3           Agía Galíni   35.1000    24.6833        79.39        57   \n",
       "4              Coruripe  -10.1256   -36.1756        71.37        77   \n",
       "...                 ...       ...        ...          ...       ...   \n",
       "548      Guerrero Negro   27.9769  -114.0611        78.57        55   \n",
       "549        Karatuzskoye   53.6072    92.8667        62.83        91   \n",
       "550                Raja    8.4596    25.6780        66.63        94   \n",
       "551              Ferrol   43.4832    -8.2369        68.52        86   \n",
       "552          Port Hardy   50.6996  -127.4199        64.58        63   \n",
       "\n",
       "         Cloudiness  Wind speed Country        Date  \n",
       "City_ID                                              \n",
       "0               100        9.42      RU  2022-08-02  \n",
       "1                40        6.91      MU  2022-08-02  \n",
       "2                75       14.97      CK  2022-08-02  \n",
       "3                 0        8.55      GR  2022-08-02  \n",
       "4                21        7.63      BR  2022-08-02  \n",
       "...             ...         ...     ...         ...  \n",
       "548               0       15.84      MX  2022-08-02  \n",
       "549              68        4.23      RU  2022-08-02  \n",
       "550              99        3.60      SS  2022-08-02  \n",
       "551               1        8.01      ES  2022-08-02  \n",
       "552              20       16.11      CA  2022-08-02  \n",
       "\n",
       "[553 rows x 9 columns]"
      ]
     },
     "execution_count": 186,
     "metadata": {},
     "output_type": "execute_result"
    }
   ],
   "source": [
    "#Create DF\n",
    "city_info = pd.DataFrame({ \"City\": city_name\n",
    "                       , \"Latitude\"   : latitude\n",
    "                       , \"Longitude\"  : longitude\n",
    "                       , \"Temperature\" : temp\n",
    "                       , \"Humidity\"        : humidity\n",
    "                       , \"Cloudiness\"  : cloudiness\n",
    "                       , \"Wind speed\"      : wind_speed\n",
    "                       , \"Country\"    : country\n",
    "                       , \"Date\"   : date})\n",
    "\n",
    "city_info.index.name = \"City_ID\"\n",
    "\n",
    "#Export to .csv \n",
    "output_data_file = \"../output_data/cities.csv\"\n",
    "output_path = os.path.join(output_data_file )\n",
    "city_info.to_csv(output_path,index=\"False\")\n",
    "city_info"
   ]
  },
  {
   "cell_type": "markdown",
   "metadata": {},
   "source": [
    "## Inspect the data and remove the cities where the humidity > 100%.\n",
    "----\n",
    "Skip this step if there are no cities that have humidity > 100%. "
   ]
  },
  {
   "cell_type": "code",
   "execution_count": 187,
   "metadata": {},
   "outputs": [
    {
     "data": {
      "text/plain": [
       "553"
      ]
     },
     "execution_count": 187,
     "metadata": {},
     "output_type": "execute_result"
    }
   ],
   "source": [
    "#Find cities > 100% Humidity\n",
    "city_humidities = len(city_info[(city_info[\"Humidity\"] > 100) ])\n",
    "\n",
    "if city_humidities  > 0:\n",
    "    print (f\"city_humidities: {city_humidities}\")\n",
    "\n",
    "#Select only cities with humidity less than or equal to 100\n",
    "clean_city_data = city_info.loc[ (city_info[\"Humidity\"] <= 100 ) , :]\n",
    "len(clean_city_data)\n",
    "\n",
    "#Cities with humidity >100 --> there are none\n",
    "#humid_data = city_info.loc[ (city_info[\"Humidity\"] >= 100 ) , :]\n",
    "#len(humid_data)"
   ]
  },
  {
   "cell_type": "code",
   "execution_count": 188,
   "metadata": {},
   "outputs": [
    {
     "data": {
      "text/html": [
       "<div>\n",
       "<style scoped>\n",
       "    .dataframe tbody tr th:only-of-type {\n",
       "        vertical-align: middle;\n",
       "    }\n",
       "\n",
       "    .dataframe tbody tr th {\n",
       "        vertical-align: top;\n",
       "    }\n",
       "\n",
       "    .dataframe thead th {\n",
       "        text-align: right;\n",
       "    }\n",
       "</style>\n",
       "<table border=\"1\" class=\"dataframe\">\n",
       "  <thead>\n",
       "    <tr style=\"text-align: right;\">\n",
       "      <th></th>\n",
       "      <th>City</th>\n",
       "      <th>Latitude</th>\n",
       "      <th>Longitude</th>\n",
       "      <th>Temperature</th>\n",
       "      <th>Humidity</th>\n",
       "      <th>Cloudiness</th>\n",
       "      <th>Wind speed</th>\n",
       "      <th>Country</th>\n",
       "      <th>Date</th>\n",
       "    </tr>\n",
       "    <tr>\n",
       "      <th>City_ID</th>\n",
       "      <th></th>\n",
       "      <th></th>\n",
       "      <th></th>\n",
       "      <th></th>\n",
       "      <th></th>\n",
       "      <th></th>\n",
       "      <th></th>\n",
       "      <th></th>\n",
       "      <th></th>\n",
       "    </tr>\n",
       "  </thead>\n",
       "  <tbody>\n",
       "    <tr>\n",
       "      <th>0</th>\n",
       "      <td>Nikolskoye</td>\n",
       "      <td>59.7035</td>\n",
       "      <td>30.7861</td>\n",
       "      <td>64.87</td>\n",
       "      <td>99</td>\n",
       "      <td>100</td>\n",
       "      <td>9.42</td>\n",
       "      <td>RU</td>\n",
       "      <td>2022-08-02</td>\n",
       "    </tr>\n",
       "    <tr>\n",
       "      <th>1</th>\n",
       "      <td>Mahébourg</td>\n",
       "      <td>-20.4081</td>\n",
       "      <td>57.7000</td>\n",
       "      <td>66.49</td>\n",
       "      <td>94</td>\n",
       "      <td>40</td>\n",
       "      <td>6.91</td>\n",
       "      <td>MU</td>\n",
       "      <td>2022-08-02</td>\n",
       "    </tr>\n",
       "    <tr>\n",
       "      <th>2</th>\n",
       "      <td>Avarua</td>\n",
       "      <td>-21.2078</td>\n",
       "      <td>-159.7750</td>\n",
       "      <td>78.85</td>\n",
       "      <td>57</td>\n",
       "      <td>75</td>\n",
       "      <td>14.97</td>\n",
       "      <td>CK</td>\n",
       "      <td>2022-08-02</td>\n",
       "    </tr>\n",
       "    <tr>\n",
       "      <th>3</th>\n",
       "      <td>Agía Galíni</td>\n",
       "      <td>35.1000</td>\n",
       "      <td>24.6833</td>\n",
       "      <td>79.39</td>\n",
       "      <td>57</td>\n",
       "      <td>0</td>\n",
       "      <td>8.55</td>\n",
       "      <td>GR</td>\n",
       "      <td>2022-08-02</td>\n",
       "    </tr>\n",
       "    <tr>\n",
       "      <th>4</th>\n",
       "      <td>Coruripe</td>\n",
       "      <td>-10.1256</td>\n",
       "      <td>-36.1756</td>\n",
       "      <td>71.37</td>\n",
       "      <td>77</td>\n",
       "      <td>21</td>\n",
       "      <td>7.63</td>\n",
       "      <td>BR</td>\n",
       "      <td>2022-08-02</td>\n",
       "    </tr>\n",
       "    <tr>\n",
       "      <th>...</th>\n",
       "      <td>...</td>\n",
       "      <td>...</td>\n",
       "      <td>...</td>\n",
       "      <td>...</td>\n",
       "      <td>...</td>\n",
       "      <td>...</td>\n",
       "      <td>...</td>\n",
       "      <td>...</td>\n",
       "      <td>...</td>\n",
       "    </tr>\n",
       "    <tr>\n",
       "      <th>548</th>\n",
       "      <td>Guerrero Negro</td>\n",
       "      <td>27.9769</td>\n",
       "      <td>-114.0611</td>\n",
       "      <td>78.57</td>\n",
       "      <td>55</td>\n",
       "      <td>0</td>\n",
       "      <td>15.84</td>\n",
       "      <td>MX</td>\n",
       "      <td>2022-08-02</td>\n",
       "    </tr>\n",
       "    <tr>\n",
       "      <th>549</th>\n",
       "      <td>Karatuzskoye</td>\n",
       "      <td>53.6072</td>\n",
       "      <td>92.8667</td>\n",
       "      <td>62.83</td>\n",
       "      <td>91</td>\n",
       "      <td>68</td>\n",
       "      <td>4.23</td>\n",
       "      <td>RU</td>\n",
       "      <td>2022-08-02</td>\n",
       "    </tr>\n",
       "    <tr>\n",
       "      <th>550</th>\n",
       "      <td>Raja</td>\n",
       "      <td>8.4596</td>\n",
       "      <td>25.6780</td>\n",
       "      <td>66.63</td>\n",
       "      <td>94</td>\n",
       "      <td>99</td>\n",
       "      <td>3.60</td>\n",
       "      <td>SS</td>\n",
       "      <td>2022-08-02</td>\n",
       "    </tr>\n",
       "    <tr>\n",
       "      <th>551</th>\n",
       "      <td>Ferrol</td>\n",
       "      <td>43.4832</td>\n",
       "      <td>-8.2369</td>\n",
       "      <td>68.52</td>\n",
       "      <td>86</td>\n",
       "      <td>1</td>\n",
       "      <td>8.01</td>\n",
       "      <td>ES</td>\n",
       "      <td>2022-08-02</td>\n",
       "    </tr>\n",
       "    <tr>\n",
       "      <th>552</th>\n",
       "      <td>Port Hardy</td>\n",
       "      <td>50.6996</td>\n",
       "      <td>-127.4199</td>\n",
       "      <td>64.58</td>\n",
       "      <td>63</td>\n",
       "      <td>20</td>\n",
       "      <td>16.11</td>\n",
       "      <td>CA</td>\n",
       "      <td>2022-08-02</td>\n",
       "    </tr>\n",
       "  </tbody>\n",
       "</table>\n",
       "<p>553 rows × 9 columns</p>\n",
       "</div>"
      ],
      "text/plain": [
       "                   City  Latitude  Longitude  Temperature  Humidity  \\\n",
       "City_ID                                                               \n",
       "0            Nikolskoye   59.7035    30.7861        64.87        99   \n",
       "1             Mahébourg  -20.4081    57.7000        66.49        94   \n",
       "2                Avarua  -21.2078  -159.7750        78.85        57   \n",
       "3           Agía Galíni   35.1000    24.6833        79.39        57   \n",
       "4              Coruripe  -10.1256   -36.1756        71.37        77   \n",
       "...                 ...       ...        ...          ...       ...   \n",
       "548      Guerrero Negro   27.9769  -114.0611        78.57        55   \n",
       "549        Karatuzskoye   53.6072    92.8667        62.83        91   \n",
       "550                Raja    8.4596    25.6780        66.63        94   \n",
       "551              Ferrol   43.4832    -8.2369        68.52        86   \n",
       "552          Port Hardy   50.6996  -127.4199        64.58        63   \n",
       "\n",
       "         Cloudiness  Wind speed Country        Date  \n",
       "City_ID                                              \n",
       "0               100        9.42      RU  2022-08-02  \n",
       "1                40        6.91      MU  2022-08-02  \n",
       "2                75       14.97      CK  2022-08-02  \n",
       "3                 0        8.55      GR  2022-08-02  \n",
       "4                21        7.63      BR  2022-08-02  \n",
       "...             ...         ...     ...         ...  \n",
       "548               0       15.84      MX  2022-08-02  \n",
       "549              68        4.23      RU  2022-08-02  \n",
       "550              99        3.60      SS  2022-08-02  \n",
       "551               1        8.01      ES  2022-08-02  \n",
       "552              20       16.11      CA  2022-08-02  \n",
       "\n",
       "[553 rows x 9 columns]"
      ]
     },
     "execution_count": 188,
     "metadata": {},
     "output_type": "execute_result"
    }
   ],
   "source": [
    "#View data-easier for plotting\n",
    "clean_city_data"
   ]
  },
  {
   "cell_type": "code",
   "execution_count": 193,
   "metadata": {},
   "outputs": [
    {
     "data": {
      "text/plain": [
       "'2022-08-02'"
      ]
     },
     "execution_count": 193,
     "metadata": {},
     "output_type": "execute_result"
    }
   ],
   "source": [
    "# Make a new DataFrame equal to the city data to drop all humidity outliers by index.\n",
    "# Passing \"inplace=False\" will make a copy of the city_data DataFrame, which we call \"clean_city_data\".\n",
    "# Specific Date\n",
    "\n",
    "from datetime import date as dt\n",
    "\n",
    "#date = pd.to_datetime(clean_city_data[\"Date\"], units ='s').dt.date\n",
    "date = pd.to_datetime(clean_city_data[\"Date\"]).dt.date\n",
    "specific_date = date[0:1]\n",
    "\n",
    "for item in specific_date:\n",
    "    date_analysis = str(item)\n",
    "\n",
    "date_analysis"
   ]
  },
  {
   "cell_type": "markdown",
   "metadata": {},
   "source": [
    "## Plotting the Data\n",
    "* Use proper labeling of the plots using plot titles (including date of analysis) and axes labels.\n",
    "* Save the plotted figures as .pngs."
   ]
  },
  {
   "cell_type": "markdown",
   "metadata": {},
   "source": [
    "## Latitude vs. Temperature Plot"
   ]
  },
  {
   "cell_type": "code",
   "execution_count": 194,
   "metadata": {
    "scrolled": true
   },
   "outputs": [],
   "source": [
    "#Function to plot scatter plot-doing this repeatedly in this hw, func easier than repetitive code.\n",
    "def scatter_plot(params):\n",
    "    \n",
    "    # Save the y_axis value\n",
    "    y_axis  = params.get(\"y_axis\")\n",
    "    y_label  = params.get(\"y_label\")\n",
    "    unit    = params.get(\"unit\")\n",
    "    outfile = params.get(\"outfile\")\n",
    "    \n",
    "    x_axis = clean_city_data[\"Latitude\"]\n",
    "    \n",
    "    plt.scatter(x_axis, y_axis, marker=\"^\")\n",
    "                \n",
    "    x_label = \"Latitude\"\n",
    "\n",
    "    plt.title(f\"{x_label} vs. {y_label} ({date_analysis})\")\n",
    "    plt.ylabel(f\"{y_label} {unit}\")\n",
    "    plt.xlabel(f\"{x_label}\")\n",
    "    plt.grid()\n",
    "\n",
    "    #Output\n",
    "    plt.savefig(f\"../output_data/{outfile}\")\n",
    "    plt.show()"
   ]
  },
  {
   "cell_type": "code",
   "execution_count": 195,
   "metadata": {},
   "outputs": [
    {
     "data": {
      "image/png": "[encoded data removed]",
      "text/plain": [
       "<Figure size 432x288 with 1 Axes>"
      ]
     },
     "metadata": {
      "needs_background": "light"
     },
     "output_type": "display_data"
    }
   ],
   "source": [
    "#Lat vs.Temp\n",
    "params =  { \"y_axis\": clean_city_data[\"Temperature\"],\n",
    "            \"y_label\": \"Temp\",\n",
    "            \"unit\": \"(F)\",\n",
    "            \"outfile\": \"fig1_Latitude_vs_Temp.png\"}\n",
    "\n",
    "scatter_plot(params)"
   ]
  },
  {
   "cell_type": "markdown",
   "metadata": {},
   "source": [
    "This plot shows a correlation between the latitude and temperature for cities with humidity less than/ equal to 100. The highest temperatures are countries with latitude around 0, while latitudes furthest away from 0, such as -60 and 80, have low temperatures.  This indicates low temperature correlates to the further from the equator/ latitude 0 you get, while higher temperatures correlate to regions around latitude 0."
   ]
  },
  {
   "cell_type": "markdown",
   "metadata": {},
   "source": [
    "## Latitude vs. Humidity Plot"
   ]
  },
  {
   "cell_type": "code",
   "execution_count": 196,
   "metadata": {},
   "outputs": [
    {
     "data": {
      "image/png": "[encoded data removed]",
      "text/plain": [
       "<Figure size 432x288 with 1 Axes>"
      ]
     },
     "metadata": {
      "needs_background": "light"
     },
     "output_type": "display_data"
    }
   ],
   "source": [
    "# Lat vs Humidity\n",
    "params =  { \"y_axis\": clean_city_data[\"Humidity\"],\n",
    "            \"y_label\": \"Humidity\",\n",
    "            \"unit\": \"(%)\",\n",
    "            \"outfile\": \"fig2_Latitude_vs_Humidity.png\"}\n",
    "scatter_plot(params)"
   ]
  },
  {
   "cell_type": "markdown",
   "metadata": {},
   "source": [
    "This plot shows the correlation between the latitude and humidity for cities with humidity less than/ equal to 100. Overall, the majority of data points appear to accumulate in the 60-100% humidity range. However, there is no overall correlation in this plot."
   ]
  },
  {
   "cell_type": "markdown",
   "metadata": {},
   "source": [
    "## Latitude vs. Cloudiness Plot"
   ]
  },
  {
   "cell_type": "code",
   "execution_count": 197,
   "metadata": {},
   "outputs": [
    {
     "data": {
      "image/png": "[encoded data removed]",
      "text/plain": [
       "<Figure size 432x288 with 1 Axes>"
      ]
     },
     "metadata": {
      "needs_background": "light"
     },
     "output_type": "display_data"
    }
   ],
   "source": [
    "#Lat vs Clouds\n",
    "params =  { \"y_axis\": clean_city_data[\"Cloudiness\"],\n",
    "            \"y_label\": \"Cloudiness\",\n",
    "            \"unit\": \"(%)\",\n",
    "            \"outfile\": \"fig3_Latitude_vs_Cloudiness.png\"}\n",
    "scatter_plot(params)"
   ]
  },
  {
   "cell_type": "markdown",
   "metadata": {},
   "source": [
    "This plot shows the correlation between the latitude and cloudiness for cities with humidity less than/ equal to 100. Overall, the data is very spread out.  Therefore, there is no correlation between cloudiness and latitude."
   ]
  },
  {
   "cell_type": "markdown",
   "metadata": {},
   "source": [
    "## Latitude vs. Wind Speed Plot"
   ]
  },
  {
   "cell_type": "code",
   "execution_count": 198,
   "metadata": {},
   "outputs": [
    {
     "data": {
      "image/png": "[encoded data removed]",
      "text/plain": [
       "<Figure size 432x288 with 1 Axes>"
      ]
     },
     "metadata": {
      "needs_background": "light"
     },
     "output_type": "display_data"
    }
   ],
   "source": [
    "#Lat vs Wind Speed\n",
    "params =  { \"y_axis\": clean_city_data[\"Wind speed\"],\n",
    "            \"y_label\": \"Wind Speed\",\n",
    "            \"unit\": \"(%)\",\n",
    "            \"outfile\": \"fig4_Latitude_vs_Wind_Speed.png\"}\n",
    "scatter_plot(params)"
   ]
  },
  {
   "cell_type": "markdown",
   "metadata": {},
   "source": [
    "This plot shows the correlation between the latitude and ind speed for cities with humidity less than/ equal to 100. Overall, the data points are accumulated towards lower wind speeds. However, the plot does not show a correlation between wind speed and latitude."
   ]
  },
  {
   "cell_type": "markdown",
   "metadata": {},
   "source": [
    "## Linear Regression"
   ]
  },
  {
   "cell_type": "code",
   "execution_count": 199,
   "metadata": {},
   "outputs": [
    {
     "name": "stdout",
     "output_type": "stream",
     "text": [
      "Number of cities in the Northern Hemisphere: 375\n",
      "Number of cities in Southern Hemisphere: 178\n"
     ]
    }
   ],
   "source": [
    "#North DF\n",
    "north_info= clean_city_data.loc[(clean_city_data[\"Latitude\"] >= 0 )]\n",
    "                                            \n",
    "#South DF\n",
    "south_info = clean_city_data.loc[(clean_city_data[\"Latitude\"] < 0 )]\n",
    "                                            \n",
    "print (f\"Number of cities in the Northern Hemisphere: {len(north_info)}\")\n",
    "print (f\"Number of cities in Southern Hemisphere: {len(south_info)}\")"
   ]
  },
  {
   "cell_type": "markdown",
   "metadata": {},
   "source": [
    "####  Northern Hemisphere - Max Temp vs. Latitude Linear Regression"
   ]
  },
  {
   "cell_type": "code",
   "execution_count": 200,
   "metadata": {},
   "outputs": [],
   "source": [
    "#Func-repetitive code, easier to call func to do work that will be repeated\n",
    "def linear_regression_calc(calc_params):\n",
    "    \n",
    "    # Save the parms value from parms dict\n",
    "    hemisphere_loc =  calc_params.get(\"hemisphere_loc\")\n",
    "    x_values =  calc_params.get(\"x_values\")\n",
    "    y_values =  calc_params.get(\"y_values\")\n",
    "    y_label =  calc_params.get(\"y_label\")\n",
    "    x_label =  calc_params.get(\"x_label\")\n",
    "    unit  =  calc_params.get(\"unit\")\n",
    "    x  =  calc_params.get(\"x\")  \n",
    "    y = calc_params.get(\"y\") \n",
    "    outfile  = calc_params.get(\"outfile\")\n",
    "    \n",
    "    (slope, intercept, rvalue, pvalue, stderr) = linregress(x_values, y_values)\n",
    "\n",
    "    regress_values = x_values * slope + intercept\n",
    "\n",
    "    # Create line equation\n",
    "    line_eq = \"y = \" + str(round(slope,2)) + \"x + \" + str(round(intercept,2))\n",
    "\n",
    "    #Plot\n",
    "    plt.scatter( x_values, y_values, color = \"blue\")\n",
    "    plt.plot(x_values,regress_values,\"r-\")\n",
    "    plt.annotate(line_eq,(x,y),fontsize=10,color=\"red\")\n",
    "    x_label = \"Latitude\"\n",
    "    plt.xlabel (f\"{x_label}\")\n",
    "    plt.ylabel (f\"{y_label} {unit}\")\n",
    "    plt.title  (f\"{hemisphere_loc} Hemisphere - {y_label} {unit} vs. {x_label} ({date_analysis})\")\n",
    "\n",
    "    # Print r value\n",
    "    print(f\"The r-value is: {rvalue**2}\")\n",
    "\n",
    "    #Output \n",
    "    plt.savefig(f\"../output_data/{outfile}\")\n",
    "    plt.show()"
   ]
  },
  {
   "cell_type": "code",
   "execution_count": 212,
   "metadata": {},
   "outputs": [
    {
     "data": {
      "text/plain": [
       "178"
      ]
     },
     "execution_count": 212,
     "metadata": {},
     "output_type": "execute_result"
    }
   ],
   "source": [
    "#view data-easier for plotting\n",
    "#len(north_info) #375 cities\n",
    "len(south_info) #178 cities"
   ]
  },
  {
   "cell_type": "code",
   "execution_count": 202,
   "metadata": {},
   "outputs": [
    {
     "name": "stdout",
     "output_type": "stream",
     "text": [
      "The r-value is: 0.4055025292864515\n"
     ]
    },
    {
     "data": {
      "image/png": "[encoded data removed]",
      "text/plain": [
       "<Figure size 432x288 with 1 Axes>"
      ]
     },
     "metadata": {
      "needs_background": "light"
     },
     "output_type": "display_data"
    }
   ],
   "source": [
    "#North Hemi Temp vs. Latitude\n",
    "calc_params = {\"hemisphere_loc\": \"Northern\",\n",
    "               \"x_values\": north_info[\"Latitude\"],\n",
    "               \"y_values\": north_info[\"Temperature\"],\n",
    "               \"y_label\": \"Temperature\",\n",
    "               \"unit\": \"(F)\",\n",
    "               \"x\": 20,\n",
    "               \"y\": 50,\n",
    "               \"outfile\": \"fig5_Northern_Temp_vs_Latitude.png\"}\n",
    "\n",
    "linear_regression_calc(calc_params)"
   ]
  },
  {
   "cell_type": "markdown",
   "metadata": {},
   "source": [
    "This plot shows the correlation between latitude and temperature for the northern hemisphere.  There is a negative linear regression between latitude and temperature since temperature decreases (gets colder) the further from latitude 0."
   ]
  },
  {
   "cell_type": "markdown",
   "metadata": {},
   "source": [
    "####  Southern Hemisphere - Max Temp vs. Latitude Linear Regression"
   ]
  },
  {
   "cell_type": "code",
   "execution_count": 203,
   "metadata": {},
   "outputs": [
    {
     "name": "stdout",
     "output_type": "stream",
     "text": [
      "The r-value is: 0.5121227017381583\n"
     ]
    },
    {
     "data": {
      "image/png": "[encoded data removed]",
      "text/plain": [
       "<Figure size 432x288 with 1 Axes>"
      ]
     },
     "metadata": {
      "needs_background": "light"
     },
     "output_type": "display_data"
    }
   ],
   "source": [
    "#South Hemi Temp vs. Latitude\n",
    "calc_params = {\"hemisphere_loc\": \"Southern\",\n",
    "               \"x_values\": south_info[\"Latitude\"],\n",
    "               \"y_values\": south_info[\"Temperature\"],\n",
    "               \"y_label\": \"Temp\",\n",
    "               \"unit\": \"(F)\",\n",
    "               \"x\": -25,\n",
    "               \"y\": 40,\n",
    "               \"outfile\": \"fig6_Southern_Temp_vs_Latitude.png\"}\n",
    "\n",
    "linear_regression_calc(calc_params)"
   ]
  },
  {
   "cell_type": "markdown",
   "metadata": {},
   "source": [
    "This plot analyzes the correlation between the latitude and temperature for the southern hemisphere. The plot shows a positive linear regression between the latitude and temperature since temperature increases (gets hotter) as the data gets closer to latitude 0."
   ]
  },
  {
   "cell_type": "markdown",
   "metadata": {},
   "source": [
    "####  Northern Hemisphere - Humidity (%) vs. Latitude Linear Regression"
   ]
  },
  {
   "cell_type": "code",
   "execution_count": 204,
   "metadata": {},
   "outputs": [
    {
     "name": "stdout",
     "output_type": "stream",
     "text": [
      "The r-value is: 0.013872385683337561\n"
     ]
    },
    {
     "data": {
      "image/png": "[encoded data removed]",
      "text/plain": [
       "<Figure size 432x288 with 1 Axes>"
      ]
     },
     "metadata": {
      "needs_background": "light"
     },
     "output_type": "display_data"
    }
   ],
   "source": [
    "#North Hemi Humidity vs. Latitude\n",
    "calc_params = {\"hemisphere_loc\": \"Northern\",\n",
    "               \"x_values\": north_info[\"Latitude\"],\n",
    "               \"y_values\": north_info[\"Humidity\"],\n",
    "               \"y_label\": \"Humidity\",\n",
    "               \"unit\": \"(%)\",\n",
    "               \"x\": 55,\n",
    "               \"y\": 15,\n",
    "               \"outfile\": \"fig7_Northern_Humidity_vs_Latitude.png\"}\n",
    "\n",
    "linear_regression_calc(calc_params)"
   ]
  },
  {
   "cell_type": "markdown",
   "metadata": {},
   "source": [
    "This plot shows the correlation between latitude and humidity for the nothern hemisphere.  There is no correlation since the linear regression is flat. The data points are accumulated in higer humidity ranges, but overall there is no correlation between humidity and latitude."
   ]
  },
  {
   "cell_type": "markdown",
   "metadata": {},
   "source": [
    "####  Southern Hemisphere - Humidity (%) vs. Latitude Linear Regression"
   ]
  },
  {
   "cell_type": "code",
   "execution_count": 205,
   "metadata": {},
   "outputs": [
    {
     "name": "stdout",
     "output_type": "stream",
     "text": [
      "The r-value is: 0.012677229638429663\n"
     ]
    },
    {
     "data": {
      "image/png": "[encoded data removed]",
      "text/plain": [
       "<Figure size 432x288 with 1 Axes>"
      ]
     },
     "metadata": {
      "needs_background": "light"
     },
     "output_type": "display_data"
    }
   ],
   "source": [
    "#South Hemi Humidity vs. Latitude\n",
    "calc_params = {\"hemisphere_loc\": \"Southern\",\n",
    "               \"x_values\": south_info[\"Latitude\"],\n",
    "               \"y_values\": south_info[\"Humidity\"],\n",
    "               \"y_label\": \"Humidity\",\n",
    "               \"unit\": \"(%)\",\n",
    "               \"x\": -50,\n",
    "               \"y\": 35,\n",
    "               \"outfile\": \"fig8_Southern_Humidity_vs_Latitude.png\"}\n",
    "\n",
    "linear_regression_calc(calc_params)"
   ]
  },
  {
   "cell_type": "markdown",
   "metadata": {},
   "source": [
    "This plot shows the correlation between latitude and humidity for the southern hemisphere. There is no correlation since the linear regression is flat. The data points are spread out, and overall there is no correlation between humidity and latitude."
   ]
  },
  {
   "cell_type": "markdown",
   "metadata": {},
   "source": [
    "####  Northern Hemisphere - Cloudiness (%) vs. Latitude Linear Regression"
   ]
  },
  {
   "cell_type": "code",
   "execution_count": 206,
   "metadata": {},
   "outputs": [
    {
     "name": "stdout",
     "output_type": "stream",
     "text": [
      "The r-value is: 0.003863419483450729\n"
     ]
    },
    {
     "data": {
      "image/png": "[encoded data removed]",
      "text/plain": [
       "<Figure size 432x288 with 1 Axes>"
      ]
     },
     "metadata": {
      "needs_background": "light"
     },
     "output_type": "display_data"
    }
   ],
   "source": [
    "#North Hemi Cloudiness vs. Latitude\n",
    "calc_params = {\"hemisphere_loc\": \"Northern\",\n",
    "               \"x_values\": north_info[\"Latitude\"],\n",
    "               \"y_values\": north_info[\"Cloudiness\"],\n",
    "               \"y_label\": \"Cloudiness\",\n",
    "               \"unit\": \"(%)\",\n",
    "               \"x\": 0,\n",
    "               \"y\": 50,\n",
    "               \"outfile\": \"fig9_Northern_Cloudiness_vs_Latitude.png\"}\n",
    "\n",
    "linear_regression_calc(calc_params)"
   ]
  },
  {
   "cell_type": "markdown",
   "metadata": {},
   "source": [
    "This plot analyzes the correlation between the latitude and cloudiness for the northern hemisphere. The linear regression is flat, indiciating no correlation. The data is scattered across a broad range."
   ]
  },
  {
   "cell_type": "markdown",
   "metadata": {},
   "source": [
    "####  Southern Hemisphere - Cloudiness (%) vs. Latitude Linear Regression"
   ]
  },
  {
   "cell_type": "code",
   "execution_count": 207,
   "metadata": {},
   "outputs": [
    {
     "name": "stdout",
     "output_type": "stream",
     "text": [
      "The r-value is: 0.014405356783826574\n"
     ]
    },
    {
     "data": {
      "image/png": "[encoded data removed]",
      "text/plain": [
       "<Figure size 432x288 with 1 Axes>"
      ]
     },
     "metadata": {
      "needs_background": "light"
     },
     "output_type": "display_data"
    }
   ],
   "source": [
    "#South Hemi Cloudiness vs. Latitude\n",
    "calc_params = {\"hemisphere_loc\": \"Southern\",\n",
    "               \"x_values\": south_info[\"Latitude\"],\n",
    "               \"y_values\": south_info[\"Cloudiness\"],\n",
    "               \"y_label\": \"Cloudiness\",\n",
    "               \"unit\": \"(%)\",\n",
    "               \"x\": -55,\n",
    "               \"y\": 12,\n",
    "               \"outfile\": \"fig10_Southern_Cloudiness_vs_Latitude.png\"}\n",
    "\n",
    "linear_regression_calc(calc_params)"
   ]
  },
  {
   "cell_type": "markdown",
   "metadata": {},
   "source": [
    "This plot analyzes the correlation between the latitude and cloudiness for southern hemisphere. There is a slightly positive linear regression between cloudiness and latitude, but overall there is no correlation."
   ]
  },
  {
   "cell_type": "markdown",
   "metadata": {},
   "source": [
    "####  Northern Hemisphere - Wind Speed (mph) vs. Latitude Linear Regression"
   ]
  },
  {
   "cell_type": "code",
   "execution_count": 208,
   "metadata": {},
   "outputs": [
    {
     "name": "stdout",
     "output_type": "stream",
     "text": [
      "The r-value is: 0.00048688386406815304\n"
     ]
    },
    {
     "data": {
      "image/png": "[encoded data removed]",
      "text/plain": [
       "<Figure size 432x288 with 1 Axes>"
      ]
     },
     "metadata": {
      "needs_background": "light"
     },
     "output_type": "display_data"
    }
   ],
   "source": [
    "#North Hemi Wind Speed vs. Latitude\n",
    "calc_params = {\"hemisphere_loc\": \"Northern\",\n",
    "               \"x_values\": north_info[\"Latitude\"],\n",
    "               \"y_values\": north_info[\"Wind speed\"],\n",
    "               \"y_label\": \"Wind Speed\",\n",
    "               \"unit\": \"(mph)\",\n",
    "               \"x\": 50,\n",
    "               \"y\": 25,\n",
    "               \"outfile\": \"fig11_Northern_Wind_Speed_vs_Latitude.png\"}\n",
    "\n",
    "linear_regression_calc(calc_params)"
   ]
  },
  {
   "cell_type": "markdown",
   "metadata": {},
   "source": [
    "This plot shows the correlation between the latitude and wind speed for the northern hemisphere.  The data is spread out with a flat linear regression line, indicating no correlation. "
   ]
  },
  {
   "cell_type": "markdown",
   "metadata": {},
   "source": [
    "####  Southern Hemisphere - Wind Speed (mph) vs. Latitude Linear Regression"
   ]
  },
  {
   "cell_type": "code",
   "execution_count": 209,
   "metadata": {},
   "outputs": [
    {
     "name": "stdout",
     "output_type": "stream",
     "text": [
      "The r-value is: 0.023365543403734715\n"
     ]
    },
    {
     "data": {
      "image/png": "[encoded data removed]",
      "text/plain": [
       "<Figure size 432x288 with 1 Axes>"
      ]
     },
     "metadata": {
      "needs_background": "light"
     },
     "output_type": "display_data"
    }
   ],
   "source": [
    "#South Hemi Wind Speed vs. Latitude\n",
    "calc_params = {\"hemisphere_loc\": \"Southern\",\n",
    "               \"x_values\": south_info[\"Latitude\"],\n",
    "               \"y_values\": south_info[\"Wind speed\"],\n",
    "               \"y_label\": \"Wind Speed\",\n",
    "               \"unit\": \"(mph)\",\n",
    "               \"x\": -50,\n",
    "               \"y\": 30,\n",
    "               \"outfile\": \"fig12_Southern_Wind_Speed_vs_Latitude.png\"}\n",
    "\n",
    "linear_regression_calc(calc_params)"
   ]
  },
  {
   "cell_type": "markdown",
   "metadata": {},
   "source": [
    "This plot analyzes the correlation between the latitude and wind speed for the southern hemisphere. Data is spread out, with a slightly negative linear regression line between latitude and wind speed.  This indicates there is no correlation."
   ]
  }
 ],
 "metadata": {
  "anaconda-cloud": {},
  "kernel_info": {
   "name": "python3"
  },
  "kernelspec": {
   "display_name": "Python 3 (ipykernel)",
   "language": "python",
   "name": "python3"
  },
  "language_info": {
   "codemirror_mode": {
    "name": "ipython",
    "version": 3
   },
   "file_extension": ".py",
   "mimetype": "text/x-python",
   "name": "python",
   "nbconvert_exporter": "python",
   "pygments_lexer": "ipython3",
   "version": "3.9.12"
  },
  "latex_envs": {
   "LaTeX_envs_menu_present": true,
   "autoclose": false,
   "autocomplete": true,
   "bibliofile": "biblio.bib",
   "cite_by": "apalike",
   "current_citInitial": 1,
   "eqLabelWithNumbers": true,
   "eqNumInitial": 1,
   "hotkeys": {
    "equation": "Ctrl-E",
    "itemize": "Ctrl-I"
   },
   "labels_anchors": false,
   "latex_user_defs": false,
   "report_style_numbering": false,
   "user_envs_cfg": false
  },
  "nteract": {
   "version": "0.12.3"
  }
 },
 "nbformat": 4,
 "nbformat_minor": 2
}
