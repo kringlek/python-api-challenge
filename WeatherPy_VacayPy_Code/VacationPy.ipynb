{
 "cells": [
  {
   "cell_type": "markdown",
   "metadata": {},
   "source": [
    "# VacationPy\n",
    "----\n",
    "\n",
    "#### Note\n",
    "* Keep an eye on your API usage. Use https://developers.google.com/maps/reporting/gmp-reporting as reference for how to monitor your usage and billing.\n",
    "\n",
    "* Instructions have been included for each segment. You do not have to follow them exactly, but they are included to help you think through the steps."
   ]
  },
  {
   "cell_type": "code",
   "execution_count": 38,
   "metadata": {},
   "outputs": [],
   "source": [
    "# Dependencies and Setup\n",
    "import matplotlib.pyplot as plt\n",
    "import pandas as pd\n",
    "import numpy as np\n",
    "import requests\n",
    "import gmaps\n",
    "import os\n",
    "\n",
    "# Import API key\n",
    "from api_keys import g_key"
   ]
  },
  {
   "cell_type": "markdown",
   "metadata": {},
   "source": [
    "### Store Part I results into DataFrame\n",
    "* Load the csv exported in Part I to a DataFrame"
   ]
  },
  {
   "cell_type": "code",
   "execution_count": 39,
   "metadata": {},
   "outputs": [
    {
     "data": {
      "text/plain": [
       "551"
      ]
     },
     "execution_count": 39,
     "metadata": {},
     "output_type": "execute_result"
    }
   ],
   "source": [
    "#CSV into DF\n",
    "path = \"../output_data/cities.csv\"\n",
    "cities_info = pd.read_csv(path)\n",
    "\n",
    "#Remove blank data rows\n",
    "cities_info = cities_info.dropna()\n",
    "len(cities_info)\n"
   ]
  },
  {
   "cell_type": "markdown",
   "metadata": {},
   "source": [
    "### Humidity Heatmap\n",
    "* Configure gmaps.\n",
    "* Use the Lat and Lng as locations and Humidity as the weight.\n",
    "* Add Heatmap layer to map."
   ]
  },
  {
   "cell_type": "code",
   "execution_count": 40,
   "metadata": {},
   "outputs": [],
   "source": [
    "#config google maps\n",
    "gmaps.configure(api_key=g_key)\n",
    "\n",
    "#Get lat/lng locations vs humidity\n",
    "location = cities_info[[\"Latitude\", \"Longitude\"]]\n",
    "humidity  = cities_info[\"Humidity\"]"
   ]
  },
  {
   "cell_type": "code",
   "execution_count": 41,
   "metadata": {},
   "outputs": [
    {
     "data": {
      "application/vnd.jupyter.widget-view+json": {
       "model_id": "421edfcbff4847eebbec927eadd8c20d",
       "version_major": 2,
       "version_minor": 0
      },
      "text/plain": [
       "Figure(layout=FigureLayout(height='420px'))"
      ]
     },
     "metadata": {},
     "output_type": "display_data"
    }
   ],
   "source": [
    "#heatmap layer to map (use func)\n",
    "figure = gmaps.figure()\n",
    "\n",
    "heat_layer = gmaps.heatmap_layer( location,\n",
    "                                  weights = humidity, \n",
    "                                  dissipating = False,\n",
    "                                  max_intensity = 100,\n",
    "                                  point_radius  = 1)\n",
    "                                \n",
    "figure.add_layer(heat_layer)\n",
    "figure"
   ]
  },
  {
   "cell_type": "markdown",
   "metadata": {},
   "source": [
    "### Create new DataFrame fitting weather criteria\n",
    "* Narrow down the cities to fit weather conditions.\n",
    "* Drop any rows will null values."
   ]
  },
  {
   "cell_type": "code",
   "execution_count": 51,
   "metadata": {},
   "outputs": [
    {
     "data": {
      "text/html": [
       "<div>\n",
       "<style scoped>\n",
       "    .dataframe tbody tr th:only-of-type {\n",
       "        vertical-align: middle;\n",
       "    }\n",
       "\n",
       "    .dataframe tbody tr th {\n",
       "        vertical-align: top;\n",
       "    }\n",
       "\n",
       "    .dataframe thead th {\n",
       "        text-align: right;\n",
       "    }\n",
       "</style>\n",
       "<table border=\"1\" class=\"dataframe\">\n",
       "  <thead>\n",
       "    <tr style=\"text-align: right;\">\n",
       "      <th></th>\n",
       "      <th>City</th>\n",
       "      <th>Country</th>\n",
       "      <th>Latitude</th>\n",
       "      <th>Longitude</th>\n",
       "    </tr>\n",
       "  </thead>\n",
       "  <tbody>\n",
       "    <tr>\n",
       "      <th>0</th>\n",
       "      <td>Agía Galíni</td>\n",
       "      <td>GR</td>\n",
       "      <td>35.1000</td>\n",
       "      <td>24.6833</td>\n",
       "    </tr>\n",
       "    <tr>\n",
       "      <th>1</th>\n",
       "      <td>Redondela</td>\n",
       "      <td>ES</td>\n",
       "      <td>42.2834</td>\n",
       "      <td>-8.6096</td>\n",
       "    </tr>\n",
       "    <tr>\n",
       "      <th>2</th>\n",
       "      <td>Fairbanks</td>\n",
       "      <td>US</td>\n",
       "      <td>64.8378</td>\n",
       "      <td>-147.7164</td>\n",
       "    </tr>\n",
       "    <tr>\n",
       "      <th>3</th>\n",
       "      <td>Broome</td>\n",
       "      <td>US</td>\n",
       "      <td>42.2506</td>\n",
       "      <td>-75.8330</td>\n",
       "    </tr>\n",
       "    <tr>\n",
       "      <th>4</th>\n",
       "      <td>Kiryat Gat</td>\n",
       "      <td>IL</td>\n",
       "      <td>31.6100</td>\n",
       "      <td>34.7642</td>\n",
       "    </tr>\n",
       "    <tr>\n",
       "      <th>5</th>\n",
       "      <td>São Miguel do Araguaia</td>\n",
       "      <td>BR</td>\n",
       "      <td>-13.2750</td>\n",
       "      <td>-50.1628</td>\n",
       "    </tr>\n",
       "    <tr>\n",
       "      <th>6</th>\n",
       "      <td>Hailar</td>\n",
       "      <td>CN</td>\n",
       "      <td>49.2000</td>\n",
       "      <td>119.7000</td>\n",
       "    </tr>\n",
       "    <tr>\n",
       "      <th>7</th>\n",
       "      <td>Guidonia</td>\n",
       "      <td>IT</td>\n",
       "      <td>42.0167</td>\n",
       "      <td>12.7500</td>\n",
       "    </tr>\n",
       "    <tr>\n",
       "      <th>8</th>\n",
       "      <td>Westport</td>\n",
       "      <td>US</td>\n",
       "      <td>41.1415</td>\n",
       "      <td>-73.3579</td>\n",
       "    </tr>\n",
       "    <tr>\n",
       "      <th>9</th>\n",
       "      <td>Capoterra</td>\n",
       "      <td>IT</td>\n",
       "      <td>39.1763</td>\n",
       "      <td>8.9718</td>\n",
       "    </tr>\n",
       "    <tr>\n",
       "      <th>10</th>\n",
       "      <td>Fuerte Olimpo</td>\n",
       "      <td>PY</td>\n",
       "      <td>-21.0415</td>\n",
       "      <td>-57.8738</td>\n",
       "    </tr>\n",
       "    <tr>\n",
       "      <th>11</th>\n",
       "      <td>Huéscar</td>\n",
       "      <td>ES</td>\n",
       "      <td>37.8110</td>\n",
       "      <td>-2.5412</td>\n",
       "    </tr>\n",
       "    <tr>\n",
       "      <th>12</th>\n",
       "      <td>Iğdır</td>\n",
       "      <td>TR</td>\n",
       "      <td>39.9237</td>\n",
       "      <td>44.0450</td>\n",
       "    </tr>\n",
       "    <tr>\n",
       "      <th>13</th>\n",
       "      <td>Awjilah</td>\n",
       "      <td>LY</td>\n",
       "      <td>29.1081</td>\n",
       "      <td>21.2869</td>\n",
       "    </tr>\n",
       "    <tr>\n",
       "      <th>14</th>\n",
       "      <td>Bukama</td>\n",
       "      <td>CD</td>\n",
       "      <td>-9.2000</td>\n",
       "      <td>25.8500</td>\n",
       "    </tr>\n",
       "    <tr>\n",
       "      <th>15</th>\n",
       "      <td>Romitan</td>\n",
       "      <td>UZ</td>\n",
       "      <td>39.9343</td>\n",
       "      <td>64.3814</td>\n",
       "    </tr>\n",
       "    <tr>\n",
       "      <th>16</th>\n",
       "      <td>Waddān</td>\n",
       "      <td>LY</td>\n",
       "      <td>29.1614</td>\n",
       "      <td>16.1390</td>\n",
       "    </tr>\n",
       "    <tr>\n",
       "      <th>17</th>\n",
       "      <td>Arrondissement d'Ajaccio</td>\n",
       "      <td>FR</td>\n",
       "      <td>42.0000</td>\n",
       "      <td>8.9167</td>\n",
       "    </tr>\n",
       "    <tr>\n",
       "      <th>18</th>\n",
       "      <td>Amposta</td>\n",
       "      <td>ES</td>\n",
       "      <td>40.7131</td>\n",
       "      <td>0.5810</td>\n",
       "    </tr>\n",
       "    <tr>\n",
       "      <th>19</th>\n",
       "      <td>Kununurra</td>\n",
       "      <td>AU</td>\n",
       "      <td>-15.7667</td>\n",
       "      <td>128.7333</td>\n",
       "    </tr>\n",
       "    <tr>\n",
       "      <th>20</th>\n",
       "      <td>Barcelos</td>\n",
       "      <td>PT</td>\n",
       "      <td>41.5388</td>\n",
       "      <td>-8.6151</td>\n",
       "    </tr>\n",
       "  </tbody>\n",
       "</table>\n",
       "</div>"
      ],
      "text/plain": [
       "                        City Country  Latitude  Longitude\n",
       "0                Agía Galíni      GR   35.1000    24.6833\n",
       "1                  Redondela      ES   42.2834    -8.6096\n",
       "2                  Fairbanks      US   64.8378  -147.7164\n",
       "3                     Broome      US   42.2506   -75.8330\n",
       "4                 Kiryat Gat      IL   31.6100    34.7642\n",
       "5     São Miguel do Araguaia      BR  -13.2750   -50.1628\n",
       "6                     Hailar      CN   49.2000   119.7000\n",
       "7                   Guidonia      IT   42.0167    12.7500\n",
       "8                   Westport      US   41.1415   -73.3579\n",
       "9                  Capoterra      IT   39.1763     8.9718\n",
       "10             Fuerte Olimpo      PY  -21.0415   -57.8738\n",
       "11                   Huéscar      ES   37.8110    -2.5412\n",
       "12                     Iğdır      TR   39.9237    44.0450\n",
       "13                   Awjilah      LY   29.1081    21.2869\n",
       "14                    Bukama      CD   -9.2000    25.8500\n",
       "15                   Romitan      UZ   39.9343    64.3814\n",
       "16                    Waddān      LY   29.1614    16.1390\n",
       "17  Arrondissement d'Ajaccio      FR   42.0000     8.9167\n",
       "18                   Amposta      ES   40.7131     0.5810\n",
       "19                 Kununurra      AU  -15.7667   128.7333\n",
       "20                  Barcelos      PT   41.5388    -8.6151"
      ]
     },
     "execution_count": 51,
     "metadata": {},
     "output_type": "execute_result"
    }
   ],
   "source": [
    "#narrow down cities ~ weather conditions\n",
    "cities_weather = cities_info.loc[ (   (cities_info[\"Temperature\"] > 70) \n",
    "                               & (cities_info[\"Temperature\"] < 80)) \n",
    "                               & (cities_info[\"Wind speed\"] < 10 ) \n",
    "                               & (cities_info[\"Cloudiness\"] == 0),\n",
    "                                [ \"City\",\"Country\", \"Latitude\", \"Longitude\" ]].reset_index(drop=True) \n",
    "len(cities_weather)\n",
    "cities_weather"
   ]
  },
  {
   "cell_type": "markdown",
   "metadata": {},
   "source": [
    "### Hotel Map\n",
    "* Store into variable named `hotel_df`.\n",
    "* Add a \"Hotel Name\" column to the DataFrame.\n",
    "* Set parameters to search for hotels with 5000 meters.\n",
    "* Hit the Google Places API for each city's coordinates.\n",
    "* Store the first Hotel result into the DataFrame.\n",
    "* Plot markers on top of the heatmap."
   ]
  },
  {
   "cell_type": "code",
   "execution_count": 54,
   "metadata": {},
   "outputs": [],
   "source": [
    "#step 1 --> df w/ new col for hotel names\n",
    "hotel_info = cities_weather\n",
    "\n",
    "#step 2 --> hotel name col.\n",
    "hotel_info[\"Hotel Name\"] = \"\"\n",
    "\n",
    "#step 3 --> params for hotels 5000m\n",
    "params = {\"keyword\": \"hotel\",\n",
    "          \"radius\": 5000,\n",
    "          \"type\": \"lodging\",\n",
    "          \"key\": g_key}\n",
    "\n",
    "#step 4 --> url to find google places\n",
    "hotel_url = \"https://maps.googleapis.com/maps/api/place/nearbysearch/json\""
   ]
  },
  {
   "cell_type": "code",
   "execution_count": 59,
   "metadata": {},
   "outputs": [
    {
     "name": "stdout",
     "output_type": "stream",
     "text": [
      "Obtaining Hotel Data for set 0: city Agía Galíni.\n"
     ]
    },
    {
     "name": "stderr",
     "output_type": "stream",
     "text": [
      "C:\\Users\\COOPERKK\\Anaconda3\\lib\\site-packages\\urllib3\\connectionpool.py:1043: InsecureRequestWarning: Unverified HTTPS request is being made to host 'maps.googleapis.com'. Adding certificate verification is strongly advised. See: https://urllib3.readthedocs.io/en/1.26.x/advanced-usage.html#ssl-warnings\n",
      "  warnings.warn(\n"
     ]
    },
    {
     "name": "stdout",
     "output_type": "stream",
     "text": [
      "Closest hotel in Agía Galíni is Palazzo Greco.\n",
      "Obtaining Hotel Data for set 1: city Redondela.\n"
     ]
    },
    {
     "name": "stderr",
     "output_type": "stream",
     "text": [
      "C:\\Users\\COOPERKK\\Anaconda3\\lib\\site-packages\\urllib3\\connectionpool.py:1043: InsecureRequestWarning: Unverified HTTPS request is being made to host 'maps.googleapis.com'. Adding certificate verification is strongly advised. See: https://urllib3.readthedocs.io/en/1.26.x/advanced-usage.html#ssl-warnings\n",
      "  warnings.warn(\n"
     ]
    },
    {
     "name": "stdout",
     "output_type": "stream",
     "text": [
      "Closest hotel in Redondela is Hotel Antolín.\n",
      "Obtaining Hotel Data for set 2: city Fairbanks.\n"
     ]
    },
    {
     "name": "stderr",
     "output_type": "stream",
     "text": [
      "C:\\Users\\COOPERKK\\Anaconda3\\lib\\site-packages\\urllib3\\connectionpool.py:1043: InsecureRequestWarning: Unverified HTTPS request is being made to host 'maps.googleapis.com'. Adding certificate verification is strongly advised. See: https://urllib3.readthedocs.io/en/1.26.x/advanced-usage.html#ssl-warnings\n",
      "  warnings.warn(\n"
     ]
    },
    {
     "name": "stdout",
     "output_type": "stream",
     "text": [
      "Closest hotel in Fairbanks is SpringHill Suites by Marriott Fairbanks.\n",
      "Obtaining Hotel Data for set 3: city Broome.\n"
     ]
    },
    {
     "name": "stderr",
     "output_type": "stream",
     "text": [
      "C:\\Users\\COOPERKK\\Anaconda3\\lib\\site-packages\\urllib3\\connectionpool.py:1043: InsecureRequestWarning: Unverified HTTPS request is being made to host 'maps.googleapis.com'. Adding certificate verification is strongly advised. See: https://urllib3.readthedocs.io/en/1.26.x/advanced-usage.html#ssl-warnings\n",
      "  warnings.warn(\n"
     ]
    },
    {
     "name": "stdout",
     "output_type": "stream",
     "text": [
      "Missing/ no hotel... skipping.\n",
      "------------------------------\n",
      "Obtaining Hotel Data for set 4: city Kiryat Gat.\n"
     ]
    },
    {
     "name": "stderr",
     "output_type": "stream",
     "text": [
      "C:\\Users\\COOPERKK\\Anaconda3\\lib\\site-packages\\urllib3\\connectionpool.py:1043: InsecureRequestWarning: Unverified HTTPS request is being made to host 'maps.googleapis.com'. Adding certificate verification is strongly advised. See: https://urllib3.readthedocs.io/en/1.26.x/advanced-usage.html#ssl-warnings\n",
      "  warnings.warn(\n"
     ]
    },
    {
     "name": "stdout",
     "output_type": "stream",
     "text": [
      "Closest hotel in Kiryat Gat is Desert Gat.\n",
      "Obtaining Hotel Data for set 5: city São Miguel do Araguaia.\n"
     ]
    },
    {
     "name": "stderr",
     "output_type": "stream",
     "text": [
      "C:\\Users\\COOPERKK\\Anaconda3\\lib\\site-packages\\urllib3\\connectionpool.py:1043: InsecureRequestWarning: Unverified HTTPS request is being made to host 'maps.googleapis.com'. Adding certificate verification is strongly advised. See: https://urllib3.readthedocs.io/en/1.26.x/advanced-usage.html#ssl-warnings\n",
      "  warnings.warn(\n"
     ]
    },
    {
     "name": "stdout",
     "output_type": "stream",
     "text": [
      "Closest hotel in São Miguel do Araguaia is Hotel Executivo Palace.\n",
      "Obtaining Hotel Data for set 6: city Hailar.\n"
     ]
    },
    {
     "name": "stderr",
     "output_type": "stream",
     "text": [
      "C:\\Users\\COOPERKK\\Anaconda3\\lib\\site-packages\\urllib3\\connectionpool.py:1043: InsecureRequestWarning: Unverified HTTPS request is being made to host 'maps.googleapis.com'. Adding certificate verification is strongly advised. See: https://urllib3.readthedocs.io/en/1.26.x/advanced-usage.html#ssl-warnings\n",
      "  warnings.warn(\n"
     ]
    },
    {
     "name": "stdout",
     "output_type": "stream",
     "text": [
      "Closest hotel in Hailar is Hulunbeir Hotel.\n",
      "Obtaining Hotel Data for set 7: city Guidonia.\n"
     ]
    },
    {
     "name": "stderr",
     "output_type": "stream",
     "text": [
      "C:\\Users\\COOPERKK\\Anaconda3\\lib\\site-packages\\urllib3\\connectionpool.py:1043: InsecureRequestWarning: Unverified HTTPS request is being made to host 'maps.googleapis.com'. Adding certificate verification is strongly advised. See: https://urllib3.readthedocs.io/en/1.26.x/advanced-usage.html#ssl-warnings\n",
      "  warnings.warn(\n"
     ]
    },
    {
     "name": "stdout",
     "output_type": "stream",
     "text": [
      "Closest hotel in Guidonia is Villa Verde.\n",
      "Obtaining Hotel Data for set 8: city Westport.\n"
     ]
    },
    {
     "name": "stderr",
     "output_type": "stream",
     "text": [
      "C:\\Users\\COOPERKK\\Anaconda3\\lib\\site-packages\\urllib3\\connectionpool.py:1043: InsecureRequestWarning: Unverified HTTPS request is being made to host 'maps.googleapis.com'. Adding certificate verification is strongly advised. See: https://urllib3.readthedocs.io/en/1.26.x/advanced-usage.html#ssl-warnings\n",
      "  warnings.warn(\n"
     ]
    },
    {
     "name": "stdout",
     "output_type": "stream",
     "text": [
      "Closest hotel in Westport is Norwalk Inn.\n",
      "Obtaining Hotel Data for set 9: city Capoterra.\n"
     ]
    },
    {
     "name": "stderr",
     "output_type": "stream",
     "text": [
      "C:\\Users\\COOPERKK\\Anaconda3\\lib\\site-packages\\urllib3\\connectionpool.py:1043: InsecureRequestWarning: Unverified HTTPS request is being made to host 'maps.googleapis.com'. Adding certificate verification is strongly advised. See: https://urllib3.readthedocs.io/en/1.26.x/advanced-usage.html#ssl-warnings\n",
      "  warnings.warn(\n"
     ]
    },
    {
     "name": "stdout",
     "output_type": "stream",
     "text": [
      "Closest hotel in Capoterra is Hotel Santa Gilla.\n",
      "Obtaining Hotel Data for set 10: city Fuerte Olimpo.\n"
     ]
    },
    {
     "name": "stderr",
     "output_type": "stream",
     "text": [
      "C:\\Users\\COOPERKK\\Anaconda3\\lib\\site-packages\\urllib3\\connectionpool.py:1043: InsecureRequestWarning: Unverified HTTPS request is being made to host 'maps.googleapis.com'. Adding certificate verification is strongly advised. See: https://urllib3.readthedocs.io/en/1.26.x/advanced-usage.html#ssl-warnings\n",
      "  warnings.warn(\n"
     ]
    },
    {
     "name": "stdout",
     "output_type": "stream",
     "text": [
      "Closest hotel in Fuerte Olimpo is Hotel Fuerte Olimpo.\n",
      "Obtaining Hotel Data for set 11: city Huéscar.\n"
     ]
    },
    {
     "name": "stderr",
     "output_type": "stream",
     "text": [
      "C:\\Users\\COOPERKK\\Anaconda3\\lib\\site-packages\\urllib3\\connectionpool.py:1043: InsecureRequestWarning: Unverified HTTPS request is being made to host 'maps.googleapis.com'. Adding certificate verification is strongly advised. See: https://urllib3.readthedocs.io/en/1.26.x/advanced-usage.html#ssl-warnings\n",
      "  warnings.warn(\n"
     ]
    },
    {
     "name": "stdout",
     "output_type": "stream",
     "text": [
      "Closest hotel in Huéscar is Hotel Patri.\n",
      "Obtaining Hotel Data for set 12: city Iğdır.\n"
     ]
    },
    {
     "name": "stderr",
     "output_type": "stream",
     "text": [
      "C:\\Users\\COOPERKK\\Anaconda3\\lib\\site-packages\\urllib3\\connectionpool.py:1043: InsecureRequestWarning: Unverified HTTPS request is being made to host 'maps.googleapis.com'. Adding certificate verification is strongly advised. See: https://urllib3.readthedocs.io/en/1.26.x/advanced-usage.html#ssl-warnings\n",
      "  warnings.warn(\n"
     ]
    },
    {
     "name": "stdout",
     "output_type": "stream",
     "text": [
      "Closest hotel in Iğdır is Hotel Dedemin 2.\n",
      "Obtaining Hotel Data for set 13: city Awjilah.\n"
     ]
    },
    {
     "name": "stderr",
     "output_type": "stream",
     "text": [
      "C:\\Users\\COOPERKK\\Anaconda3\\lib\\site-packages\\urllib3\\connectionpool.py:1043: InsecureRequestWarning: Unverified HTTPS request is being made to host 'maps.googleapis.com'. Adding certificate verification is strongly advised. See: https://urllib3.readthedocs.io/en/1.26.x/advanced-usage.html#ssl-warnings\n",
      "  warnings.warn(\n"
     ]
    },
    {
     "name": "stdout",
     "output_type": "stream",
     "text": [
      "Missing/ no hotel... skipping.\n",
      "------------------------------\n",
      "Obtaining Hotel Data for set 14: city Bukama.\n"
     ]
    },
    {
     "name": "stderr",
     "output_type": "stream",
     "text": [
      "C:\\Users\\COOPERKK\\Anaconda3\\lib\\site-packages\\urllib3\\connectionpool.py:1043: InsecureRequestWarning: Unverified HTTPS request is being made to host 'maps.googleapis.com'. Adding certificate verification is strongly advised. See: https://urllib3.readthedocs.io/en/1.26.x/advanced-usage.html#ssl-warnings\n",
      "  warnings.warn(\n"
     ]
    },
    {
     "name": "stdout",
     "output_type": "stream",
     "text": [
      "Missing/ no hotel... skipping.\n",
      "------------------------------\n",
      "Obtaining Hotel Data for set 15: city Romitan.\n"
     ]
    },
    {
     "name": "stderr",
     "output_type": "stream",
     "text": [
      "C:\\Users\\COOPERKK\\Anaconda3\\lib\\site-packages\\urllib3\\connectionpool.py:1043: InsecureRequestWarning: Unverified HTTPS request is being made to host 'maps.googleapis.com'. Adding certificate verification is strongly advised. See: https://urllib3.readthedocs.io/en/1.26.x/advanced-usage.html#ssl-warnings\n",
      "  warnings.warn(\n"
     ]
    },
    {
     "name": "stdout",
     "output_type": "stream",
     "text": [
      "Missing/ no hotel... skipping.\n",
      "------------------------------\n",
      "Obtaining Hotel Data for set 16: city Waddān.\n"
     ]
    },
    {
     "name": "stderr",
     "output_type": "stream",
     "text": [
      "C:\\Users\\COOPERKK\\Anaconda3\\lib\\site-packages\\urllib3\\connectionpool.py:1043: InsecureRequestWarning: Unverified HTTPS request is being made to host 'maps.googleapis.com'. Adding certificate verification is strongly advised. See: https://urllib3.readthedocs.io/en/1.26.x/advanced-usage.html#ssl-warnings\n",
      "  warnings.warn(\n"
     ]
    },
    {
     "name": "stdout",
     "output_type": "stream",
     "text": [
      "Closest hotel in Waddān is بشير التاجوري.\n",
      "Obtaining Hotel Data for set 17: city Arrondissement d'Ajaccio.\n"
     ]
    },
    {
     "name": "stderr",
     "output_type": "stream",
     "text": [
      "C:\\Users\\COOPERKK\\Anaconda3\\lib\\site-packages\\urllib3\\connectionpool.py:1043: InsecureRequestWarning: Unverified HTTPS request is being made to host 'maps.googleapis.com'. Adding certificate verification is strongly advised. See: https://urllib3.readthedocs.io/en/1.26.x/advanced-usage.html#ssl-warnings\n",
      "  warnings.warn(\n"
     ]
    },
    {
     "name": "stdout",
     "output_type": "stream",
     "text": [
      "Closest hotel in Arrondissement d'Ajaccio is Sole E Monte.\n",
      "Obtaining Hotel Data for set 18: city Amposta.\n"
     ]
    },
    {
     "name": "stderr",
     "output_type": "stream",
     "text": [
      "C:\\Users\\COOPERKK\\Anaconda3\\lib\\site-packages\\urllib3\\connectionpool.py:1043: InsecureRequestWarning: Unverified HTTPS request is being made to host 'maps.googleapis.com'. Adding certificate verification is strongly advised. See: https://urllib3.readthedocs.io/en/1.26.x/advanced-usage.html#ssl-warnings\n",
      "  warnings.warn(\n"
     ]
    },
    {
     "name": "stdout",
     "output_type": "stream",
     "text": [
      "Closest hotel in Amposta is Hotel Hcc Montsià.\n",
      "Obtaining Hotel Data for set 19: city Kununurra.\n"
     ]
    },
    {
     "name": "stderr",
     "output_type": "stream",
     "text": [
      "C:\\Users\\COOPERKK\\Anaconda3\\lib\\site-packages\\urllib3\\connectionpool.py:1043: InsecureRequestWarning: Unverified HTTPS request is being made to host 'maps.googleapis.com'. Adding certificate verification is strongly advised. See: https://urllib3.readthedocs.io/en/1.26.x/advanced-usage.html#ssl-warnings\n",
      "  warnings.warn(\n"
     ]
    },
    {
     "name": "stdout",
     "output_type": "stream",
     "text": [
      "Closest hotel in Kununurra is The Kimberley Grande Resort.\n",
      "Obtaining Hotel Data for set 20: city Barcelos.\n"
     ]
    },
    {
     "name": "stderr",
     "output_type": "stream",
     "text": [
      "C:\\Users\\COOPERKK\\Anaconda3\\lib\\site-packages\\urllib3\\connectionpool.py:1043: InsecureRequestWarning: Unverified HTTPS request is being made to host 'maps.googleapis.com'. Adding certificate verification is strongly advised. See: https://urllib3.readthedocs.io/en/1.26.x/advanced-usage.html#ssl-warnings\n",
      "  warnings.warn(\n"
     ]
    },
    {
     "name": "stdout",
     "output_type": "stream",
     "text": [
      "Closest hotel in Barcelos is Art'otel Barcelos.\n"
     ]
    },
    {
     "data": {
      "text/html": [
       "<div>\n",
       "<style scoped>\n",
       "    .dataframe tbody tr th:only-of-type {\n",
       "        vertical-align: middle;\n",
       "    }\n",
       "\n",
       "    .dataframe tbody tr th {\n",
       "        vertical-align: top;\n",
       "    }\n",
       "\n",
       "    .dataframe thead th {\n",
       "        text-align: right;\n",
       "    }\n",
       "</style>\n",
       "<table border=\"1\" class=\"dataframe\">\n",
       "  <thead>\n",
       "    <tr style=\"text-align: right;\">\n",
       "      <th></th>\n",
       "      <th>City</th>\n",
       "      <th>Country</th>\n",
       "      <th>Latitude</th>\n",
       "      <th>Longitude</th>\n",
       "      <th>Hotel Name</th>\n",
       "    </tr>\n",
       "  </thead>\n",
       "  <tbody>\n",
       "    <tr>\n",
       "      <th>0</th>\n",
       "      <td>Agía Galíni</td>\n",
       "      <td>GR</td>\n",
       "      <td>35.1000</td>\n",
       "      <td>24.6833</td>\n",
       "      <td>Palazzo Greco</td>\n",
       "    </tr>\n",
       "    <tr>\n",
       "      <th>1</th>\n",
       "      <td>Redondela</td>\n",
       "      <td>ES</td>\n",
       "      <td>42.2834</td>\n",
       "      <td>-8.6096</td>\n",
       "      <td>Hotel Antolín</td>\n",
       "    </tr>\n",
       "    <tr>\n",
       "      <th>2</th>\n",
       "      <td>Fairbanks</td>\n",
       "      <td>US</td>\n",
       "      <td>64.8378</td>\n",
       "      <td>-147.7164</td>\n",
       "      <td>SpringHill Suites by Marriott Fairbanks</td>\n",
       "    </tr>\n",
       "    <tr>\n",
       "      <th>3</th>\n",
       "      <td>Broome</td>\n",
       "      <td>US</td>\n",
       "      <td>42.2506</td>\n",
       "      <td>-75.8330</td>\n",
       "      <td></td>\n",
       "    </tr>\n",
       "    <tr>\n",
       "      <th>4</th>\n",
       "      <td>Kiryat Gat</td>\n",
       "      <td>IL</td>\n",
       "      <td>31.6100</td>\n",
       "      <td>34.7642</td>\n",
       "      <td>Desert Gat</td>\n",
       "    </tr>\n",
       "    <tr>\n",
       "      <th>5</th>\n",
       "      <td>São Miguel do Araguaia</td>\n",
       "      <td>BR</td>\n",
       "      <td>-13.2750</td>\n",
       "      <td>-50.1628</td>\n",
       "      <td>Hotel Executivo Palace</td>\n",
       "    </tr>\n",
       "    <tr>\n",
       "      <th>6</th>\n",
       "      <td>Hailar</td>\n",
       "      <td>CN</td>\n",
       "      <td>49.2000</td>\n",
       "      <td>119.7000</td>\n",
       "      <td>Hulunbeir Hotel</td>\n",
       "    </tr>\n",
       "    <tr>\n",
       "      <th>7</th>\n",
       "      <td>Guidonia</td>\n",
       "      <td>IT</td>\n",
       "      <td>42.0167</td>\n",
       "      <td>12.7500</td>\n",
       "      <td>Villa Verde</td>\n",
       "    </tr>\n",
       "    <tr>\n",
       "      <th>8</th>\n",
       "      <td>Westport</td>\n",
       "      <td>US</td>\n",
       "      <td>41.1415</td>\n",
       "      <td>-73.3579</td>\n",
       "      <td>Norwalk Inn</td>\n",
       "    </tr>\n",
       "    <tr>\n",
       "      <th>9</th>\n",
       "      <td>Capoterra</td>\n",
       "      <td>IT</td>\n",
       "      <td>39.1763</td>\n",
       "      <td>8.9718</td>\n",
       "      <td>Hotel Santa Gilla</td>\n",
       "    </tr>\n",
       "    <tr>\n",
       "      <th>10</th>\n",
       "      <td>Fuerte Olimpo</td>\n",
       "      <td>PY</td>\n",
       "      <td>-21.0415</td>\n",
       "      <td>-57.8738</td>\n",
       "      <td>Hotel Fuerte Olimpo</td>\n",
       "    </tr>\n",
       "    <tr>\n",
       "      <th>11</th>\n",
       "      <td>Huéscar</td>\n",
       "      <td>ES</td>\n",
       "      <td>37.8110</td>\n",
       "      <td>-2.5412</td>\n",
       "      <td>Hotel Patri</td>\n",
       "    </tr>\n",
       "    <tr>\n",
       "      <th>12</th>\n",
       "      <td>Iğdır</td>\n",
       "      <td>TR</td>\n",
       "      <td>39.9237</td>\n",
       "      <td>44.0450</td>\n",
       "      <td>Hotel Dedemin 2</td>\n",
       "    </tr>\n",
       "    <tr>\n",
       "      <th>13</th>\n",
       "      <td>Awjilah</td>\n",
       "      <td>LY</td>\n",
       "      <td>29.1081</td>\n",
       "      <td>21.2869</td>\n",
       "      <td></td>\n",
       "    </tr>\n",
       "    <tr>\n",
       "      <th>14</th>\n",
       "      <td>Bukama</td>\n",
       "      <td>CD</td>\n",
       "      <td>-9.2000</td>\n",
       "      <td>25.8500</td>\n",
       "      <td></td>\n",
       "    </tr>\n",
       "    <tr>\n",
       "      <th>15</th>\n",
       "      <td>Romitan</td>\n",
       "      <td>UZ</td>\n",
       "      <td>39.9343</td>\n",
       "      <td>64.3814</td>\n",
       "      <td></td>\n",
       "    </tr>\n",
       "    <tr>\n",
       "      <th>16</th>\n",
       "      <td>Waddān</td>\n",
       "      <td>LY</td>\n",
       "      <td>29.1614</td>\n",
       "      <td>16.1390</td>\n",
       "      <td>بشير التاجوري</td>\n",
       "    </tr>\n",
       "    <tr>\n",
       "      <th>17</th>\n",
       "      <td>Arrondissement d'Ajaccio</td>\n",
       "      <td>FR</td>\n",
       "      <td>42.0000</td>\n",
       "      <td>8.9167</td>\n",
       "      <td>Sole E Monte</td>\n",
       "    </tr>\n",
       "    <tr>\n",
       "      <th>18</th>\n",
       "      <td>Amposta</td>\n",
       "      <td>ES</td>\n",
       "      <td>40.7131</td>\n",
       "      <td>0.5810</td>\n",
       "      <td>Hotel Hcc Montsià</td>\n",
       "    </tr>\n",
       "    <tr>\n",
       "      <th>19</th>\n",
       "      <td>Kununurra</td>\n",
       "      <td>AU</td>\n",
       "      <td>-15.7667</td>\n",
       "      <td>128.7333</td>\n",
       "      <td>The Kimberley Grande Resort</td>\n",
       "    </tr>\n",
       "    <tr>\n",
       "      <th>20</th>\n",
       "      <td>Barcelos</td>\n",
       "      <td>PT</td>\n",
       "      <td>41.5388</td>\n",
       "      <td>-8.6151</td>\n",
       "      <td>Art'otel Barcelos</td>\n",
       "    </tr>\n",
       "  </tbody>\n",
       "</table>\n",
       "</div>"
      ],
      "text/plain": [
       "                        City Country  Latitude  Longitude  \\\n",
       "0                Agía Galíni      GR   35.1000    24.6833   \n",
       "1                  Redondela      ES   42.2834    -8.6096   \n",
       "2                  Fairbanks      US   64.8378  -147.7164   \n",
       "3                     Broome      US   42.2506   -75.8330   \n",
       "4                 Kiryat Gat      IL   31.6100    34.7642   \n",
       "5     São Miguel do Araguaia      BR  -13.2750   -50.1628   \n",
       "6                     Hailar      CN   49.2000   119.7000   \n",
       "7                   Guidonia      IT   42.0167    12.7500   \n",
       "8                   Westport      US   41.1415   -73.3579   \n",
       "9                  Capoterra      IT   39.1763     8.9718   \n",
       "10             Fuerte Olimpo      PY  -21.0415   -57.8738   \n",
       "11                   Huéscar      ES   37.8110    -2.5412   \n",
       "12                     Iğdır      TR   39.9237    44.0450   \n",
       "13                   Awjilah      LY   29.1081    21.2869   \n",
       "14                    Bukama      CD   -9.2000    25.8500   \n",
       "15                   Romitan      UZ   39.9343    64.3814   \n",
       "16                    Waddān      LY   29.1614    16.1390   \n",
       "17  Arrondissement d'Ajaccio      FR   42.0000     8.9167   \n",
       "18                   Amposta      ES   40.7131     0.5810   \n",
       "19                 Kununurra      AU  -15.7667   128.7333   \n",
       "20                  Barcelos      PT   41.5388    -8.6151   \n",
       "\n",
       "                                 Hotel Name  \n",
       "0                             Palazzo Greco  \n",
       "1                             Hotel Antolín  \n",
       "2   SpringHill Suites by Marriott Fairbanks  \n",
       "3                                            \n",
       "4                                Desert Gat  \n",
       "5                    Hotel Executivo Palace  \n",
       "6                           Hulunbeir Hotel  \n",
       "7                               Villa Verde  \n",
       "8                               Norwalk Inn  \n",
       "9                         Hotel Santa Gilla  \n",
       "10                      Hotel Fuerte Olimpo  \n",
       "11                              Hotel Patri  \n",
       "12                          Hotel Dedemin 2  \n",
       "13                                           \n",
       "14                                           \n",
       "15                                           \n",
       "16                            بشير التاجوري  \n",
       "17                             Sole E Monte  \n",
       "18                        Hotel Hcc Montsià  \n",
       "19              The Kimberley Grande Resort  \n",
       "20                        Art'otel Barcelos  "
      ]
     },
     "execution_count": 59,
     "metadata": {},
     "output_type": "execute_result"
    }
   ],
   "source": [
    "#step 5 --> loop through hotels for cities in df\n",
    "for index, row in hotel_info.iterrows():\n",
    "    \n",
    "    #set up params\n",
    "    latitude  = row[\"Latitude\"]\n",
    "    longitude = row[\"Longitude\"]\n",
    "    params[\"location\"] = f\"{latitude}, {longitude}\"\n",
    "    \n",
    "    #url\n",
    "    city = row[\"City\"]\n",
    "    print(f\"Obtaining Hotel Data for set {index}: city {city}.\")\n",
    "    response = requests.get(hotel_url, params = params, verify = False)\n",
    "    response = response.json()\n",
    "    outcome = response['results']\n",
    "    \n",
    "    #try|except for troubleshooting\n",
    "    try:\n",
    "        print(f\"Closest hotel in {city} is {outcome[0]['name']}.\")\n",
    "        #first hotel stored to df\n",
    "        hotel_info.loc[index, 'Hotel Name'] = outcome[0]['name']\n",
    "    \n",
    "    except (KeyError, IndexError):\n",
    "        print(\"Missing/ no hotel... skipping.\")    \n",
    "        print(\"------------------------------\")\n",
    "\n",
    "hotel_info"
   ]
  },
  {
   "cell_type": "code",
   "execution_count": 62,
   "metadata": {},
   "outputs": [],
   "source": [
    "# NOTE: Do not change any of the code in this cell\n",
    "\n",
    "# Using the template add the hotel marks to the heatmap\n",
    "info_box_template = \"\"\"\n",
    "<dl>\n",
    "<dt>Name</dt><dd>{Hotel Name}</dd>\n",
    "<dt>City</dt><dd>{City}</dd>\n",
    "<dt>Country</dt><dd>{Country}</dd>\n",
    "</dl>\n",
    "\"\"\"\n",
    "# Store the DataFrame Row\n",
    "# NOTE: be sure to update with your DataFrame name\n",
    "#my df was called hotel_info, so switched df names around\n",
    "hotel_df = [info_box_template.format(**row) for index, row in hotel_info.iterrows()]\n",
    "locations = hotel_info[[\"Latitude\", \"Longitude\"]]"
   ]
  },
  {
   "cell_type": "code",
   "execution_count": 65,
   "metadata": {},
   "outputs": [
    {
     "data": {
      "application/vnd.jupyter.widget-view+json": {
       "model_id": "72e0a3f7ae9f484d8b3c0ac787203696",
       "version_major": 2,
       "version_minor": 0
      },
      "text/plain": [
       "Figure(layout=FigureLayout(height='420px'))"
      ]
     },
     "metadata": {},
     "output_type": "display_data"
    }
   ],
   "source": [
    "# Add marker layer ontop of heat map\n",
    "marker = gmaps.marker_layer(locations)\n",
    "\n",
    "hotel_layer = gmaps.symbol_layer(locations, fill_color='rgba(0, 150, 0, 0.4)', stroke_color='rgba(0, 0, 150, 0.4)', scale=2, info_box_content=hotel_df)\n",
    "\n",
    "#plot\n",
    "fig = gmaps.figure()\n",
    "fig.add_layer(marker)\n",
    "fig.add_layer(hotel_layer)\n",
    "fig"
   ]
  },
  {
   "cell_type": "code",
   "execution_count": null,
   "metadata": {},
   "outputs": [],
   "source": []
  }
 ],
 "metadata": {
  "kernelspec": {
   "display_name": "Python 3 (ipykernel)",
   "language": "python",
   "name": "python3"
  },
  "language_info": {
   "codemirror_mode": {
    "name": "ipython",
    "version": 3
   },
   "file_extension": ".py",
   "mimetype": "text/x-python",
   "name": "python",
   "nbconvert_exporter": "python",
   "pygments_lexer": "ipython3",
   "version": "3.9.12"
  },
  "latex_envs": {
   "LaTeX_envs_menu_present": true,
   "autoclose": false,
   "autocomplete": true,
   "bibliofile": "biblio.bib",
   "cite_by": "apalike",
   "current_citInitial": 1,
   "eqLabelWithNumbers": true,
   "eqNumInitial": 1,
   "hotkeys": {
    "equation": "Ctrl-E",
    "itemize": "Ctrl-I"
   },
   "labels_anchors": false,
   "latex_user_defs": false,
   "report_style_numbering": false,
   "user_envs_cfg": false
  }
 },
 "nbformat": 4,
 "nbformat_minor": 4
}
